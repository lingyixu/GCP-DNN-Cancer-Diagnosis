{
 "cells": [
  {
   "cell_type": "markdown",
   "metadata": {},
   "source": [
    "## Patient-level data split for CHOL"
   ]
  },
  {
   "cell_type": "code",
   "execution_count": 1,
   "metadata": {},
   "outputs": [],
   "source": [
    "# import packages\n",
    "\n",
    "import pandas as pd\n",
    "import numpy as np\n",
    "#import random\n",
    "import matplotlib.pyplot as plt\n",
    "import seaborn as sns\n",
    "#from google.cloud import bigquery\n",
    "from deep_nexus.preprocess_images import random_split"
   ]
  },
  {
   "cell_type": "code",
   "execution_count": 2,
   "metadata": {},
   "outputs": [],
   "source": [
    "# the following cell is to generate a dataframe containing slides information\n",
    "# take CHOL with higher than 95% purity as an example"
   ]
  },
  {
   "cell_type": "code",
   "execution_count": 3,
   "metadata": {},
   "outputs": [],
   "source": [
    "%%bigquery df\n",
    "SELECT case_barcode, sample_barcode, disease_code, sample_type_name, avg_percent_tumor_cells, file_gcs_url\n",
    "FROM `deep-nexus.tcga.TCGA_slides_metadata`\n",
    "WHERE is_ffpe ='NO' AND disease_code='CHOL' AND (sample_type_name='Solid Tissue Normal' OR avg_percent_tumor_cells>95)"
   ]
  },
  {
   "cell_type": "code",
   "execution_count": 4,
   "metadata": {},
   "outputs": [
    {
     "data": {
      "text/html": [
       "<div>\n",
       "<style scoped>\n",
       "    .dataframe tbody tr th:only-of-type {\n",
       "        vertical-align: middle;\n",
       "    }\n",
       "\n",
       "    .dataframe tbody tr th {\n",
       "        vertical-align: top;\n",
       "    }\n",
       "\n",
       "    .dataframe thead th {\n",
       "        text-align: right;\n",
       "    }\n",
       "</style>\n",
       "<table border=\"1\" class=\"dataframe\">\n",
       "  <thead>\n",
       "    <tr style=\"text-align: right;\">\n",
       "      <th></th>\n",
       "      <th>case_barcode</th>\n",
       "      <th>sample_barcode</th>\n",
       "      <th>disease_code</th>\n",
       "      <th>sample_type_name</th>\n",
       "      <th>avg_percent_tumor_cells</th>\n",
       "      <th>file_gcs_url</th>\n",
       "      <th>mutation_states</th>\n",
       "    </tr>\n",
       "  </thead>\n",
       "  <tbody>\n",
       "    <tr>\n",
       "      <th>0</th>\n",
       "      <td>TCGA-W7-A93N</td>\n",
       "      <td>TCGA-W7-A93N-11A</td>\n",
       "      <td>CHOL</td>\n",
       "      <td>Solid Tissue Normal</td>\n",
       "      <td>0.0</td>\n",
       "      <td>gs://gdc-tcga-phs000178-open/1f32d4ce-23c4-4ee...</td>\n",
       "      <td>NaN</td>\n",
       "    </tr>\n",
       "    <tr>\n",
       "      <th>1</th>\n",
       "      <td>TCGA-W5-AA2U</td>\n",
       "      <td>TCGA-W5-AA2U-11A</td>\n",
       "      <td>CHOL</td>\n",
       "      <td>Solid Tissue Normal</td>\n",
       "      <td>0.0</td>\n",
       "      <td>gs://gdc-tcga-phs000178-open/55bdc66e-26e7-470...</td>\n",
       "      <td>NaN</td>\n",
       "    </tr>\n",
       "    <tr>\n",
       "      <th>2</th>\n",
       "      <td>TCGA-W5-AA33</td>\n",
       "      <td>TCGA-W5-AA33-11A</td>\n",
       "      <td>CHOL</td>\n",
       "      <td>Solid Tissue Normal</td>\n",
       "      <td>0.0</td>\n",
       "      <td>gs://gdc-tcga-phs000178-open/8c780832-2217-4ba...</td>\n",
       "      <td>NaN</td>\n",
       "    </tr>\n",
       "    <tr>\n",
       "      <th>3</th>\n",
       "      <td>TCGA-W5-AA2R</td>\n",
       "      <td>TCGA-W5-AA2R-11A</td>\n",
       "      <td>CHOL</td>\n",
       "      <td>Solid Tissue Normal</td>\n",
       "      <td>0.0</td>\n",
       "      <td>gs://gdc-tcga-phs000178-open/890c1e2a-8085-423...</td>\n",
       "      <td>NaN</td>\n",
       "    </tr>\n",
       "    <tr>\n",
       "      <th>4</th>\n",
       "      <td>TCGA-W7-A93O</td>\n",
       "      <td>TCGA-W7-A93O-11A</td>\n",
       "      <td>CHOL</td>\n",
       "      <td>Solid Tissue Normal</td>\n",
       "      <td>0.0</td>\n",
       "      <td>gs://gdc-tcga-phs000178-open/76b13753-1729-4fd...</td>\n",
       "      <td>NaN</td>\n",
       "    </tr>\n",
       "  </tbody>\n",
       "</table>\n",
       "</div>"
      ],
      "text/plain": [
       "   case_barcode    sample_barcode disease_code     sample_type_name  \\\n",
       "0  TCGA-W7-A93N  TCGA-W7-A93N-11A         CHOL  Solid Tissue Normal   \n",
       "1  TCGA-W5-AA2U  TCGA-W5-AA2U-11A         CHOL  Solid Tissue Normal   \n",
       "2  TCGA-W5-AA33  TCGA-W5-AA33-11A         CHOL  Solid Tissue Normal   \n",
       "3  TCGA-W5-AA2R  TCGA-W5-AA2R-11A         CHOL  Solid Tissue Normal   \n",
       "4  TCGA-W7-A93O  TCGA-W7-A93O-11A         CHOL  Solid Tissue Normal   \n",
       "\n",
       "   avg_percent_tumor_cells                                       file_gcs_url  \\\n",
       "0                      0.0  gs://gdc-tcga-phs000178-open/1f32d4ce-23c4-4ee...   \n",
       "1                      0.0  gs://gdc-tcga-phs000178-open/55bdc66e-26e7-470...   \n",
       "2                      0.0  gs://gdc-tcga-phs000178-open/8c780832-2217-4ba...   \n",
       "3                      0.0  gs://gdc-tcga-phs000178-open/890c1e2a-8085-423...   \n",
       "4                      0.0  gs://gdc-tcga-phs000178-open/76b13753-1729-4fd...   \n",
       "\n",
       "   mutation_states  \n",
       "0              NaN  \n",
       "1              NaN  \n",
       "2              NaN  \n",
       "3              NaN  \n",
       "4              NaN  "
      ]
     },
     "execution_count": 4,
     "metadata": {},
     "output_type": "execute_result"
    }
   ],
   "source": [
    "# add mutation_states and check df\n",
    "\n",
    "df['mutation_states'] = np.nan\n",
    "df.head()"
   ]
  },
  {
   "cell_type": "code",
   "execution_count": 5,
   "metadata": {},
   "outputs": [
    {
     "name": "stdout",
     "output_type": "stream",
     "text": [
      "The length of train_df: 24.\n",
      "The length of test_df: 5.\n",
      "The length of valid_df: 6.\n"
     ]
    }
   ],
   "source": [
    "# do patient-level data split\n",
    "# random_split function receives a dataframe df containing slide_id and patient_id\n",
    "# train and valid ratio are set to 0.70 and 0.15 as default\n",
    "# seed is set to 42 as default\n",
    "\n",
    "train_df, test_df, valid_df = random_split(df, train_prop = 0.70, test_prop = 0.15, valid_prop = 0.15, seed = 42)"
   ]
  },
  {
   "cell_type": "code",
   "execution_count": 6,
   "metadata": {},
   "outputs": [],
   "source": [
    "# get sample barcodes\n",
    "\n",
    "train_slide = list(train_df['sample_barcode'])\n",
    "test_slide = list(test_df['sample_barcode'])\n",
    "valid_slide = list(valid_df['sample_barcode'])"
   ]
  },
  {
   "cell_type": "code",
   "execution_count": 7,
   "metadata": {},
   "outputs": [
    {
     "name": "stdout",
     "output_type": "stream",
     "text": [
      "train set, length = 24\n",
      "['TCGA-W7-A93N-11A', 'TCGA-W5-AA2U-11A', 'TCGA-W5-AA33-11A', 'TCGA-W5-AA2R-11A', 'TCGA-W7-A93O-11A', 'TCGA-W5-AA2X-11A', 'TCGA-W5-AA31-11A', 'TCGA-W5-AA30-11A', 'TCGA-W5-AA34-11A', 'TCGA-ZU-A8S4-11A', 'TCGA-ZK-AAYZ-01A', 'TCGA-W6-AA0T-01A', 'TCGA-W6-AA0S-01A', 'TCGA-W5-AA33-01A', 'TCGA-4G-AAZR-11A', 'TCGA-4G-AAZT-11A', 'TCGA-4G-AAZO-11A', 'TCGA-W5-AA2R-01A', 'TCGA-YR-A95A-01A', 'TCGA-W5-AA2G-01A', 'TCGA-3X-AAVB-01A', 'TCGA-ZH-A8Y1-01A', 'TCGA-ZH-A8Y5-01A', 'TCGA-ZH-A8Y4-01A']\n",
      "test set, length = 5\n",
      "['TCGA-W5-AA2T-11A', 'TCGA-W5-AA2O-11A', 'TCGA-W5-AA2I-11A', 'TCGA-4G-AAZF-11A', 'TCGA-ZH-A8Y3-01A']\n",
      "valid set, length = 6\n",
      "['TCGA-W5-AA2Z-11A', 'TCGA-W5-AA2Q-11A', 'TCGA-W7-A93P-11A', 'TCGA-W7-A93P-01A', 'TCGA-ZH-A8Y6-01A', 'TCGA-ZH-A8Y2-01A']\n"
     ]
    }
   ],
   "source": [
    "print(\"train set, length = {}\".format(len(train_slide)))\n",
    "print(train_slide)\n",
    "print(\"test set, length = {}\".format(len(test_slide)))\n",
    "print(test_slide)\n",
    "print(\"valid set, length = {}\".format(len(valid_slide)))\n",
    "print(valid_slide)"
   ]
  },
  {
   "cell_type": "markdown",
   "metadata": {},
   "source": [
    "### If we discard tumor slides with purity no more than 95, get discarded slide IDs."
   ]
  },
  {
   "cell_type": "code",
   "execution_count": 8,
   "metadata": {},
   "outputs": [],
   "source": [
    "%%bigquery df_rest\n",
    "SELECT case_barcode, sample_barcode, disease_code, sample_type_name, avg_percent_tumor_cells, file_gcs_url\n",
    "FROM `deep-nexus.tcga.TCGA_slides_metadata`\n",
    "WHERE is_ffpe ='NO' AND disease_code='CHOL' AND sample_type_name='Primary solid Tumor' AND avg_percent_tumor_cells<=95\n",
    "ORDER BY avg_percent_tumor_cells"
   ]
  },
  {
   "cell_type": "code",
   "execution_count": 9,
   "metadata": {},
   "outputs": [
    {
     "data": {
      "text/html": [
       "<div>\n",
       "<style scoped>\n",
       "    .dataframe tbody tr th:only-of-type {\n",
       "        vertical-align: middle;\n",
       "    }\n",
       "\n",
       "    .dataframe tbody tr th {\n",
       "        vertical-align: top;\n",
       "    }\n",
       "\n",
       "    .dataframe thead th {\n",
       "        text-align: right;\n",
       "    }\n",
       "</style>\n",
       "<table border=\"1\" class=\"dataframe\">\n",
       "  <thead>\n",
       "    <tr style=\"text-align: right;\">\n",
       "      <th></th>\n",
       "      <th>case_barcode</th>\n",
       "      <th>sample_barcode</th>\n",
       "      <th>disease_code</th>\n",
       "      <th>sample_type_name</th>\n",
       "      <th>avg_percent_tumor_cells</th>\n",
       "      <th>file_gcs_url</th>\n",
       "      <th>mutation_states</th>\n",
       "    </tr>\n",
       "  </thead>\n",
       "  <tbody>\n",
       "    <tr>\n",
       "      <th>0</th>\n",
       "      <td>TCGA-4G-AAZG</td>\n",
       "      <td>TCGA-4G-AAZG-01A</td>\n",
       "      <td>CHOL</td>\n",
       "      <td>Primary solid Tumor</td>\n",
       "      <td>20.0</td>\n",
       "      <td>gs://gdc-tcga-phs000178-open/dc21b0ca-a36a-448...</td>\n",
       "      <td>NaN</td>\n",
       "    </tr>\n",
       "    <tr>\n",
       "      <th>1</th>\n",
       "      <td>TCGA-W5-AA2Z</td>\n",
       "      <td>TCGA-W5-AA2Z-01A</td>\n",
       "      <td>CHOL</td>\n",
       "      <td>Primary solid Tumor</td>\n",
       "      <td>23.0</td>\n",
       "      <td>gs://gdc-tcga-phs000178-open/49863eb4-585d-4d7...</td>\n",
       "      <td>NaN</td>\n",
       "    </tr>\n",
       "    <tr>\n",
       "      <th>2</th>\n",
       "      <td>TCGA-ZD-A8I3</td>\n",
       "      <td>TCGA-ZD-A8I3-01A</td>\n",
       "      <td>CHOL</td>\n",
       "      <td>Primary solid Tumor</td>\n",
       "      <td>23.0</td>\n",
       "      <td>gs://gdc-tcga-phs000178-open/6f7026d0-abe8-41a...</td>\n",
       "      <td>NaN</td>\n",
       "    </tr>\n",
       "    <tr>\n",
       "      <th>3</th>\n",
       "      <td>TCGA-4G-AAZF</td>\n",
       "      <td>TCGA-4G-AAZF-01A</td>\n",
       "      <td>CHOL</td>\n",
       "      <td>Primary solid Tumor</td>\n",
       "      <td>25.0</td>\n",
       "      <td>gs://gdc-tcga-phs000178-open/ead0d4e4-3601-4ec...</td>\n",
       "      <td>NaN</td>\n",
       "    </tr>\n",
       "    <tr>\n",
       "      <th>4</th>\n",
       "      <td>TCGA-W7-A93N</td>\n",
       "      <td>TCGA-W7-A93N-01A</td>\n",
       "      <td>CHOL</td>\n",
       "      <td>Primary solid Tumor</td>\n",
       "      <td>40.0</td>\n",
       "      <td>gs://gdc-tcga-phs000178-open/32ae9e54-cc84-4cc...</td>\n",
       "      <td>NaN</td>\n",
       "    </tr>\n",
       "  </tbody>\n",
       "</table>\n",
       "</div>"
      ],
      "text/plain": [
       "   case_barcode    sample_barcode disease_code     sample_type_name  \\\n",
       "0  TCGA-4G-AAZG  TCGA-4G-AAZG-01A         CHOL  Primary solid Tumor   \n",
       "1  TCGA-W5-AA2Z  TCGA-W5-AA2Z-01A         CHOL  Primary solid Tumor   \n",
       "2  TCGA-ZD-A8I3  TCGA-ZD-A8I3-01A         CHOL  Primary solid Tumor   \n",
       "3  TCGA-4G-AAZF  TCGA-4G-AAZF-01A         CHOL  Primary solid Tumor   \n",
       "4  TCGA-W7-A93N  TCGA-W7-A93N-01A         CHOL  Primary solid Tumor   \n",
       "\n",
       "   avg_percent_tumor_cells                                       file_gcs_url  \\\n",
       "0                     20.0  gs://gdc-tcga-phs000178-open/dc21b0ca-a36a-448...   \n",
       "1                     23.0  gs://gdc-tcga-phs000178-open/49863eb4-585d-4d7...   \n",
       "2                     23.0  gs://gdc-tcga-phs000178-open/6f7026d0-abe8-41a...   \n",
       "3                     25.0  gs://gdc-tcga-phs000178-open/ead0d4e4-3601-4ec...   \n",
       "4                     40.0  gs://gdc-tcga-phs000178-open/32ae9e54-cc84-4cc...   \n",
       "\n",
       "   mutation_states  \n",
       "0              NaN  \n",
       "1              NaN  \n",
       "2              NaN  \n",
       "3              NaN  \n",
       "4              NaN  "
      ]
     },
     "execution_count": 9,
     "metadata": {},
     "output_type": "execute_result"
    }
   ],
   "source": [
    "df_rest['mutation_states'] = np.nan\n",
    "df_rest.head()"
   ]
  },
  {
   "cell_type": "code",
   "execution_count": 10,
   "metadata": {},
   "outputs": [
    {
     "data": {
      "text/plain": [
       "36"
      ]
     },
     "execution_count": 10,
     "metadata": {},
     "output_type": "execute_result"
    }
   ],
   "source": [
    "slide_rest = list(df_rest['sample_barcode'])\n",
    "len(slide_rest)"
   ]
  },
  {
   "cell_type": "code",
   "execution_count": 11,
   "metadata": {},
   "outputs": [
    {
     "name": "stdout",
     "output_type": "stream",
     "text": [
      "discarded slides:\n",
      "['TCGA-4G-AAZG-01A', 'TCGA-W5-AA2Z-01A', 'TCGA-ZD-A8I3-01A', 'TCGA-4G-AAZF-01A', 'TCGA-W7-A93N-01A', 'TCGA-W5-AA2W-01A', 'TCGA-4G-AAZO-01A', 'TCGA-3X-AAVA-01A', 'TCGA-ZU-A8S4-01A', 'TCGA-WD-A7RX-01A', 'TCGA-3X-AAVC-01A', 'TCGA-3X-AAV9-01A', 'TCGA-W5-AA2X-01A', 'TCGA-5A-A8ZF-01A', 'TCGA-W5-AA2T-01A', 'TCGA-W5-AA2M-01A', 'TCGA-W5-AA2J-01A', 'TCGA-W5-AA2Q-01A', 'TCGA-5A-A8ZG-01A', 'TCGA-W7-A93O-01A', 'TCGA-W5-AA36-01A', 'TCGA-4G-AAZT-01A', 'TCGA-W5-AA2H-01A', 'TCGA-W5-AA38-01A', 'TCGA-3X-AAVE-01A', 'TCGA-4G-AAZR-01A', 'TCGA-W5-AA2I-01A', 'TCGA-W5-AA30-01A', 'TCGA-W5-AA2U-01A', 'TCGA-ZH-A8Y8-01A', 'TCGA-W5-AA2O-01A', 'TCGA-W5-AA39-01A', 'TCGA-W5-AA2K-01A', 'TCGA-ZH-A8Y7-01A', 'TCGA-W5-AA34-01A', 'TCGA-W5-AA31-01A']\n"
     ]
    }
   ],
   "source": [
    "print(\"discarded slides:\")\n",
    "print(slide_rest)"
   ]
  },
  {
   "cell_type": "markdown",
   "metadata": {},
   "source": [
    "### Or, we can include those discarded slides in the test and validation sets."
   ]
  },
  {
   "cell_type": "code",
   "execution_count": 12,
   "metadata": {},
   "outputs": [],
   "source": [
    "%%bigquery df_full\n",
    "SELECT case_barcode, sample_barcode, disease_code, sample_type_name, avg_percent_tumor_cells, file_gcs_url\n",
    "FROM `deep-nexus.tcga.TCGA_slides_metadata`\n",
    "WHERE is_ffpe ='NO' AND disease_code='CHOL'"
   ]
  },
  {
   "cell_type": "code",
   "execution_count": 13,
   "metadata": {},
   "outputs": [
    {
     "data": {
      "text/html": [
       "<div>\n",
       "<style scoped>\n",
       "    .dataframe tbody tr th:only-of-type {\n",
       "        vertical-align: middle;\n",
       "    }\n",
       "\n",
       "    .dataframe tbody tr th {\n",
       "        vertical-align: top;\n",
       "    }\n",
       "\n",
       "    .dataframe thead th {\n",
       "        text-align: right;\n",
       "    }\n",
       "</style>\n",
       "<table border=\"1\" class=\"dataframe\">\n",
       "  <thead>\n",
       "    <tr style=\"text-align: right;\">\n",
       "      <th></th>\n",
       "      <th>case_barcode</th>\n",
       "      <th>sample_barcode</th>\n",
       "      <th>disease_code</th>\n",
       "      <th>sample_type_name</th>\n",
       "      <th>avg_percent_tumor_cells</th>\n",
       "      <th>file_gcs_url</th>\n",
       "      <th>mutation_states</th>\n",
       "    </tr>\n",
       "  </thead>\n",
       "  <tbody>\n",
       "    <tr>\n",
       "      <th>0</th>\n",
       "      <td>TCGA-W7-A93N</td>\n",
       "      <td>TCGA-W7-A93N-11A</td>\n",
       "      <td>CHOL</td>\n",
       "      <td>Solid Tissue Normal</td>\n",
       "      <td>0.0</td>\n",
       "      <td>gs://gdc-tcga-phs000178-open/1f32d4ce-23c4-4ee...</td>\n",
       "      <td>NaN</td>\n",
       "    </tr>\n",
       "    <tr>\n",
       "      <th>1</th>\n",
       "      <td>TCGA-W5-AA2U</td>\n",
       "      <td>TCGA-W5-AA2U-11A</td>\n",
       "      <td>CHOL</td>\n",
       "      <td>Solid Tissue Normal</td>\n",
       "      <td>0.0</td>\n",
       "      <td>gs://gdc-tcga-phs000178-open/55bdc66e-26e7-470...</td>\n",
       "      <td>NaN</td>\n",
       "    </tr>\n",
       "    <tr>\n",
       "      <th>2</th>\n",
       "      <td>TCGA-W5-AA33</td>\n",
       "      <td>TCGA-W5-AA33-11A</td>\n",
       "      <td>CHOL</td>\n",
       "      <td>Solid Tissue Normal</td>\n",
       "      <td>0.0</td>\n",
       "      <td>gs://gdc-tcga-phs000178-open/8c780832-2217-4ba...</td>\n",
       "      <td>NaN</td>\n",
       "    </tr>\n",
       "    <tr>\n",
       "      <th>3</th>\n",
       "      <td>TCGA-W5-AA2R</td>\n",
       "      <td>TCGA-W5-AA2R-11A</td>\n",
       "      <td>CHOL</td>\n",
       "      <td>Solid Tissue Normal</td>\n",
       "      <td>0.0</td>\n",
       "      <td>gs://gdc-tcga-phs000178-open/890c1e2a-8085-423...</td>\n",
       "      <td>NaN</td>\n",
       "    </tr>\n",
       "    <tr>\n",
       "      <th>4</th>\n",
       "      <td>TCGA-W7-A93O</td>\n",
       "      <td>TCGA-W7-A93O-11A</td>\n",
       "      <td>CHOL</td>\n",
       "      <td>Solid Tissue Normal</td>\n",
       "      <td>0.0</td>\n",
       "      <td>gs://gdc-tcga-phs000178-open/76b13753-1729-4fd...</td>\n",
       "      <td>NaN</td>\n",
       "    </tr>\n",
       "  </tbody>\n",
       "</table>\n",
       "</div>"
      ],
      "text/plain": [
       "   case_barcode    sample_barcode disease_code     sample_type_name  \\\n",
       "0  TCGA-W7-A93N  TCGA-W7-A93N-11A         CHOL  Solid Tissue Normal   \n",
       "1  TCGA-W5-AA2U  TCGA-W5-AA2U-11A         CHOL  Solid Tissue Normal   \n",
       "2  TCGA-W5-AA33  TCGA-W5-AA33-11A         CHOL  Solid Tissue Normal   \n",
       "3  TCGA-W5-AA2R  TCGA-W5-AA2R-11A         CHOL  Solid Tissue Normal   \n",
       "4  TCGA-W7-A93O  TCGA-W7-A93O-11A         CHOL  Solid Tissue Normal   \n",
       "\n",
       "   avg_percent_tumor_cells                                       file_gcs_url  \\\n",
       "0                      0.0  gs://gdc-tcga-phs000178-open/1f32d4ce-23c4-4ee...   \n",
       "1                      0.0  gs://gdc-tcga-phs000178-open/55bdc66e-26e7-470...   \n",
       "2                      0.0  gs://gdc-tcga-phs000178-open/8c780832-2217-4ba...   \n",
       "3                      0.0  gs://gdc-tcga-phs000178-open/890c1e2a-8085-423...   \n",
       "4                      0.0  gs://gdc-tcga-phs000178-open/76b13753-1729-4fd...   \n",
       "\n",
       "   mutation_states  \n",
       "0              NaN  \n",
       "1              NaN  \n",
       "2              NaN  \n",
       "3              NaN  \n",
       "4              NaN  "
      ]
     },
     "execution_count": 13,
     "metadata": {},
     "output_type": "execute_result"
    }
   ],
   "source": [
    "df_full['mutation_states'] = np.nan\n",
    "df_full.head()"
   ]
  },
  {
   "cell_type": "markdown",
   "metadata": {},
   "source": [
    "#### 1. Check purity distribution."
   ]
  },
  {
   "cell_type": "code",
   "execution_count": 14,
   "metadata": {},
   "outputs": [
    {
     "data": {
      "text/plain": [
       "<matplotlib.axes._subplots.AxesSubplot at 0x7f979966a198>"
      ]
     },
     "execution_count": 14,
     "metadata": {},
     "output_type": "execute_result"
    },
    {
     "data": {
      "image/png": "[encoded data removed]",
      "text/plain": [
       "<Figure size 432x288 with 1 Axes>"
      ]
     },
     "metadata": {
      "needs_background": "light"
     },
     "output_type": "display_data"
    }
   ],
   "source": [
    "df_full[df_full.sample_type_name=='Primary solid Tumor'].avg_percent_tumor_cells.hist()"
   ]
  },
  {
   "cell_type": "markdown",
   "metadata": {},
   "source": [
    "#### 2. Reset purity threshold to balance the size of train/test/valid."
   ]
  },
  {
   "cell_type": "code",
   "execution_count": 15,
   "metadata": {},
   "outputs": [],
   "source": [
    "%%bigquery df_60\n",
    "SELECT case_barcode, sample_barcode, disease_code, sample_type_name, avg_percent_tumor_cells, file_gcs_url\n",
    "FROM `deep-nexus.tcga.TCGA_slides_metadata`\n",
    "WHERE is_ffpe ='NO' AND disease_code='CHOL' AND (sample_type_name='Solid Tissue Normal' OR avg_percent_tumor_cells>60)"
   ]
  },
  {
   "cell_type": "code",
   "execution_count": 16,
   "metadata": {},
   "outputs": [],
   "source": [
    "%%bigquery df_60_rest\n",
    "SELECT case_barcode, sample_barcode, disease_code, sample_type_name, avg_percent_tumor_cells, file_gcs_url\n",
    "FROM `deep-nexus.tcga.TCGA_slides_metadata`\n",
    "WHERE is_ffpe ='NO' AND disease_code='CHOL' AND sample_type_name='Primary solid Tumor' AND avg_percent_tumor_cells<=60"
   ]
  },
  {
   "cell_type": "code",
   "execution_count": 17,
   "metadata": {},
   "outputs": [],
   "source": [
    "df_60['mutation_states'] = np.nan\n",
    "df_60_rest['mutation_states'] = np.nan"
   ]
  },
  {
   "cell_type": "code",
   "execution_count": 18,
   "metadata": {},
   "outputs": [
    {
     "name": "stdout",
     "output_type": "stream",
     "text": [
      "The length of train_df: 41.\n",
      "The length of test_df: 8.\n",
      "The length of valid_df: 10.\n"
     ]
    }
   ],
   "source": [
    "train_df_60, test_df_part1, valid_df_part1 = random_split(df_60, train_prop = 0.70, test_prop = 0.15, valid_prop = 0.15, seed = 42)"
   ]
  },
  {
   "cell_type": "code",
   "execution_count": 19,
   "metadata": {},
   "outputs": [
    {
     "name": "stdout",
     "output_type": "stream",
     "text": [
      "The length of train_df: 0.\n",
      "The length of test_df: 6.\n",
      "The length of valid_df: 6.\n"
     ]
    }
   ],
   "source": [
    "_, test_df_part2, valid_df_part2 = random_split(df_60_rest, train_prop = 0, test_prop = 0.5, valid_prop = 0.5, seed = 42)"
   ]
  },
  {
   "cell_type": "code",
   "execution_count": 20,
   "metadata": {},
   "outputs": [],
   "source": [
    "test_df_60 = pd.concat([test_df_part1, test_df_part2], ignore_index=True)\n",
    "valid_df_60 = pd.concat([valid_df_part1, valid_df_part2], ignore_index=True)"
   ]
  },
  {
   "cell_type": "markdown",
   "metadata": {},
   "source": [
    "#### 3. Check if `case_barcode` in test & valid sets do not show in train set, otherwise move overlapping ones."
   ]
  },
  {
   "cell_type": "code",
   "execution_count": 21,
   "metadata": {},
   "outputs": [],
   "source": [
    "train_case = list(pd.unique(train_df_60['case_barcode']))\n",
    "test_case = list(pd.unique(test_df_60['case_barcode']))\n",
    "valid_case = list(pd.unique(valid_df_60['case_barcode']))"
   ]
  },
  {
   "cell_type": "code",
   "execution_count": 22,
   "metadata": {},
   "outputs": [
    {
     "data": {
      "text/plain": [
       "(31, 13, 12)"
      ]
     },
     "execution_count": 22,
     "metadata": {},
     "output_type": "execute_result"
    }
   ],
   "source": [
    "len(train_case), len(test_case), len(valid_case)"
   ]
  },
  {
   "cell_type": "code",
   "execution_count": 23,
   "metadata": {},
   "outputs": [],
   "source": [
    "test_case_final = [case for case in test_case if case not in train_case]\n",
    "valid_case_final = [case for case in valid_case if case not in train_case]"
   ]
  },
  {
   "cell_type": "code",
   "execution_count": 24,
   "metadata": {},
   "outputs": [
    {
     "data": {
      "text/plain": [
       "(12, 10)"
      ]
     },
     "execution_count": 24,
     "metadata": {},
     "output_type": "execute_result"
    }
   ],
   "source": [
    "len(test_case_final), len(valid_case_final)"
   ]
  },
  {
   "cell_type": "code",
   "execution_count": 25,
   "metadata": {},
   "outputs": [],
   "source": [
    "test_df_60 = test_df_60[test_df_60['case_barcode'].isin(test_case_final)]\n",
    "valid_df_60 = valid_df_60[valid_df_60['case_barcode'].isin(valid_case_final)]"
   ]
  },
  {
   "cell_type": "code",
   "execution_count": 26,
   "metadata": {},
   "outputs": [],
   "source": [
    "train_slide_60 = list(train_df_60['sample_barcode'])\n",
    "test_slide_60 = list(test_df_60['sample_barcode'])\n",
    "valid_slide_60 = list(valid_df_60['sample_barcode'])"
   ]
  },
  {
   "cell_type": "code",
   "execution_count": 27,
   "metadata": {},
   "outputs": [
    {
     "name": "stdout",
     "output_type": "stream",
     "text": [
      "train set, length = 41\n",
      "['TCGA-W7-A93N-11A', 'TCGA-W5-AA2U-11A', 'TCGA-W5-AA33-11A', 'TCGA-W5-AA2Z-11A', 'TCGA-W5-AA2Q-11A', 'TCGA-W5-AA2X-11A', 'TCGA-W5-AA31-11A', 'TCGA-W7-A93P-11A', 'TCGA-W5-AA34-11A', 'TCGA-ZU-A8S4-11A', 'TCGA-W5-AA2I-11A', 'TCGA-ZH-A8Y7-01A', 'TCGA-W5-AA38-01A', 'TCGA-W5-AA34-01A', 'TCGA-ZK-AAYZ-01A', 'TCGA-5A-A8ZG-01A', 'TCGA-W6-AA0T-01A', 'TCGA-3X-AAVE-01A', 'TCGA-W7-A93P-01A', 'TCGA-W5-AA31-01A', 'TCGA-W5-AA39-01A', 'TCGA-W5-AA33-01A', 'TCGA-W5-AA36-01A', 'TCGA-5A-A8ZF-01A', 'TCGA-4G-AAZR-11A', 'TCGA-4G-AAZT-11A', 'TCGA-W5-AA2X-01A', 'TCGA-YR-A95A-01A', 'TCGA-4G-AAZR-01A', 'TCGA-W5-AA2M-01A', 'TCGA-W5-AA2I-01A', 'TCGA-W5-AA2K-01A', 'TCGA-W5-AA2U-01A', 'TCGA-W5-AA2G-01A', 'TCGA-4G-AAZT-01A', 'TCGA-W5-AA2H-01A', 'TCGA-W5-AA2Q-01A', 'TCGA-3X-AAVB-01A', 'TCGA-ZH-A8Y1-01A', 'TCGA-ZH-A8Y5-01A', 'TCGA-ZH-A8Y4-01A']\n",
      "test set, length = 13\n",
      "['TCGA-W5-AA30-11A', 'TCGA-ZH-A8Y8-01A', 'TCGA-W6-AA0S-01A', 'TCGA-ZH-A8Y6-01A', 'TCGA-4G-AAZO-11A', 'TCGA-ZH-A8Y2-01A', 'TCGA-W5-AA2J-01A', 'TCGA-W5-AA30-01A', 'TCGA-3X-AAVA-01A', 'TCGA-W5-AA2W-01A', 'TCGA-4G-AAZF-01A', 'TCGA-ZD-A8I3-01A', 'TCGA-3X-AAV9-01A']\n",
      "valid set, length = 14\n",
      "['TCGA-W5-AA2R-11A', 'TCGA-W7-A93O-11A', 'TCGA-W5-AA2T-11A', 'TCGA-W5-AA2O-11A', 'TCGA-W7-A93O-01A', 'TCGA-4G-AAZF-11A', 'TCGA-W5-AA2R-01A', 'TCGA-W5-AA2T-01A', 'TCGA-ZH-A8Y3-01A', 'TCGA-W5-AA2O-01A', 'TCGA-WD-A7RX-01A', 'TCGA-3X-AAVC-01A', 'TCGA-4G-AAZO-01A', 'TCGA-4G-AAZG-01A']\n"
     ]
    }
   ],
   "source": [
    "print(\"train set, length = {}\".format(len(train_slide_60)))\n",
    "print(train_slide_60)\n",
    "print(\"test set, length = {}\".format(len(test_slide_60)))\n",
    "print(test_slide_60)\n",
    "print(\"valid set, length = {}\".format(len(valid_slide_60)))\n",
    "print(valid_slide_60)"
   ]
  },
  {
   "cell_type": "markdown",
   "metadata": {},
   "source": [
    "#### 4. Plot tumor vs normal in each set."
   ]
  },
  {
   "cell_type": "code",
   "execution_count": 28,
   "metadata": {},
   "outputs": [],
   "source": [
    "train_type = train_df_60['sample_type_name'].value_counts()\n",
    "test_type = test_df_60['sample_type_name'].value_counts()\n",
    "valid_type = valid_df_60['sample_type_name'].value_counts()"
   ]
  },
  {
   "cell_type": "code",
   "execution_count": 29,
   "metadata": {},
   "outputs": [
    {
     "data": {
      "text/html": [
       "<div>\n",
       "<style scoped>\n",
       "    .dataframe tbody tr th:only-of-type {\n",
       "        vertical-align: middle;\n",
       "    }\n",
       "\n",
       "    .dataframe tbody tr th {\n",
       "        vertical-align: top;\n",
       "    }\n",
       "\n",
       "    .dataframe thead th {\n",
       "        text-align: right;\n",
       "    }\n",
       "</style>\n",
       "<table border=\"1\" class=\"dataframe\">\n",
       "  <thead>\n",
       "    <tr style=\"text-align: right;\">\n",
       "      <th></th>\n",
       "      <th>Primary solid Tumor</th>\n",
       "      <th>Solid Tissue Normal</th>\n",
       "    </tr>\n",
       "  </thead>\n",
       "  <tbody>\n",
       "    <tr>\n",
       "      <th>train</th>\n",
       "      <td>28</td>\n",
       "      <td>13</td>\n",
       "    </tr>\n",
       "    <tr>\n",
       "      <th>test</th>\n",
       "      <td>11</td>\n",
       "      <td>2</td>\n",
       "    </tr>\n",
       "    <tr>\n",
       "      <th>valid</th>\n",
       "      <td>9</td>\n",
       "      <td>5</td>\n",
       "    </tr>\n",
       "  </tbody>\n",
       "</table>\n",
       "</div>"
      ],
      "text/plain": [
       "       Primary solid Tumor  Solid Tissue Normal\n",
       "train                   28                   13\n",
       "test                    11                    2\n",
       "valid                    9                    5"
      ]
     },
     "execution_count": 29,
     "metadata": {},
     "output_type": "execute_result"
    }
   ],
   "source": [
    "df_type = pd.DataFrame([train_type, test_type, valid_type], index=['train', 'test', 'valid'])\n",
    "df_type"
   ]
  },
  {
   "cell_type": "code",
   "execution_count": 30,
   "metadata": {},
   "outputs": [
    {
     "data": {
      "text/plain": [
       "Text(0.5, 1.0, 'Tumor/normal slides ditribution after data splits')"
      ]
     },
     "execution_count": 30,
     "metadata": {},
     "output_type": "execute_result"
    },
    {
     "data": {
      "text/plain": [
       "<Figure size 720x432 with 0 Axes>"
      ]
     },
     "metadata": {},
     "output_type": "display_data"
    },
    {
     "data": {
      "image/png": "[encoded data removed]",
      "text/plain": [
       "<Figure size 432x288 with 1 Axes>"
      ]
     },
     "metadata": {
      "needs_background": "light"
     },
     "output_type": "display_data"
    }
   ],
   "source": [
    "plt.figure(figsize=(10, 6))\n",
    "ax = df_type.plot(kind='bar')\n",
    "for p in ax.patches:\n",
    "    ax.annotate(str(p.get_height()), (p.get_x()+0.08, p.get_height()+0.5))\n",
    "plt.ylim(0,35)\n",
    "plt.xticks(rotation=0)\n",
    "plt.title('Tumor/normal slides ditribution after data splits')"
   ]
  },
  {
   "cell_type": "markdown",
   "metadata": {},
   "source": [
    "#### 5. Combine three datasets and push the dataframe to BigQuery."
   ]
  },
  {
   "cell_type": "code",
   "execution_count": 31,
   "metadata": {},
   "outputs": [
    {
     "name": "stderr",
     "output_type": "stream",
     "text": [
      "/usr/local/lib/python3.5/dist-packages/ipykernel_launcher.py:1: SettingWithCopyWarning: \n",
      "A value is trying to be set on a copy of a slice from a DataFrame.\n",
      "Try using .loc[row_indexer,col_indexer] = value instead\n",
      "\n",
      "See the caveats in the documentation: http://pandas.pydata.org/pandas-docs/stable/user_guide/indexing.html#returning-a-view-versus-a-copy\n",
      "  \"\"\"Entry point for launching an IPython kernel.\n"
     ]
    }
   ],
   "source": [
    "train_df_60['dataset'] = 'train'\n",
    "test_df_60['dataset'] = 'test'\n",
    "valid_df_60['dataset'] = 'valid'"
   ]
  },
  {
   "cell_type": "code",
   "execution_count": 32,
   "metadata": {},
   "outputs": [
    {
     "data": {
      "text/html": [
       "<div>\n",
       "<style scoped>\n",
       "    .dataframe tbody tr th:only-of-type {\n",
       "        vertical-align: middle;\n",
       "    }\n",
       "\n",
       "    .dataframe tbody tr th {\n",
       "        vertical-align: top;\n",
       "    }\n",
       "\n",
       "    .dataframe thead th {\n",
       "        text-align: right;\n",
       "    }\n",
       "</style>\n",
       "<table border=\"1\" class=\"dataframe\">\n",
       "  <thead>\n",
       "    <tr style=\"text-align: right;\">\n",
       "      <th></th>\n",
       "      <th>case_barcode</th>\n",
       "      <th>sample_barcode</th>\n",
       "      <th>disease_code</th>\n",
       "      <th>sample_type_name</th>\n",
       "      <th>avg_percent_tumor_cells</th>\n",
       "      <th>file_gcs_url</th>\n",
       "      <th>mutation_states</th>\n",
       "      <th>dataset</th>\n",
       "    </tr>\n",
       "  </thead>\n",
       "  <tbody>\n",
       "    <tr>\n",
       "      <th>0</th>\n",
       "      <td>TCGA-W7-A93N</td>\n",
       "      <td>TCGA-W7-A93N-11A</td>\n",
       "      <td>CHOL</td>\n",
       "      <td>Solid Tissue Normal</td>\n",
       "      <td>0.0</td>\n",
       "      <td>gs://gdc-tcga-phs000178-open/1f32d4ce-23c4-4ee...</td>\n",
       "      <td>NaN</td>\n",
       "      <td>train</td>\n",
       "    </tr>\n",
       "    <tr>\n",
       "      <th>1</th>\n",
       "      <td>TCGA-W5-AA2U</td>\n",
       "      <td>TCGA-W5-AA2U-11A</td>\n",
       "      <td>CHOL</td>\n",
       "      <td>Solid Tissue Normal</td>\n",
       "      <td>0.0</td>\n",
       "      <td>gs://gdc-tcga-phs000178-open/55bdc66e-26e7-470...</td>\n",
       "      <td>NaN</td>\n",
       "      <td>train</td>\n",
       "    </tr>\n",
       "    <tr>\n",
       "      <th>2</th>\n",
       "      <td>TCGA-W5-AA33</td>\n",
       "      <td>TCGA-W5-AA33-11A</td>\n",
       "      <td>CHOL</td>\n",
       "      <td>Solid Tissue Normal</td>\n",
       "      <td>0.0</td>\n",
       "      <td>gs://gdc-tcga-phs000178-open/8c780832-2217-4ba...</td>\n",
       "      <td>NaN</td>\n",
       "      <td>train</td>\n",
       "    </tr>\n",
       "    <tr>\n",
       "      <th>3</th>\n",
       "      <td>TCGA-W5-AA2Z</td>\n",
       "      <td>TCGA-W5-AA2Z-11A</td>\n",
       "      <td>CHOL</td>\n",
       "      <td>Solid Tissue Normal</td>\n",
       "      <td>0.0</td>\n",
       "      <td>gs://gdc-tcga-phs000178-open/b05f8d6a-73be-40e...</td>\n",
       "      <td>NaN</td>\n",
       "      <td>train</td>\n",
       "    </tr>\n",
       "    <tr>\n",
       "      <th>4</th>\n",
       "      <td>TCGA-W5-AA2Q</td>\n",
       "      <td>TCGA-W5-AA2Q-11A</td>\n",
       "      <td>CHOL</td>\n",
       "      <td>Solid Tissue Normal</td>\n",
       "      <td>0.0</td>\n",
       "      <td>gs://gdc-tcga-phs000178-open/c64fa91c-4446-4be...</td>\n",
       "      <td>NaN</td>\n",
       "      <td>train</td>\n",
       "    </tr>\n",
       "  </tbody>\n",
       "</table>\n",
       "</div>"
      ],
      "text/plain": [
       "   case_barcode    sample_barcode disease_code     sample_type_name  \\\n",
       "0  TCGA-W7-A93N  TCGA-W7-A93N-11A         CHOL  Solid Tissue Normal   \n",
       "1  TCGA-W5-AA2U  TCGA-W5-AA2U-11A         CHOL  Solid Tissue Normal   \n",
       "2  TCGA-W5-AA33  TCGA-W5-AA33-11A         CHOL  Solid Tissue Normal   \n",
       "3  TCGA-W5-AA2Z  TCGA-W5-AA2Z-11A         CHOL  Solid Tissue Normal   \n",
       "4  TCGA-W5-AA2Q  TCGA-W5-AA2Q-11A         CHOL  Solid Tissue Normal   \n",
       "\n",
       "   avg_percent_tumor_cells                                       file_gcs_url  \\\n",
       "0                      0.0  gs://gdc-tcga-phs000178-open/1f32d4ce-23c4-4ee...   \n",
       "1                      0.0  gs://gdc-tcga-phs000178-open/55bdc66e-26e7-470...   \n",
       "2                      0.0  gs://gdc-tcga-phs000178-open/8c780832-2217-4ba...   \n",
       "3                      0.0  gs://gdc-tcga-phs000178-open/b05f8d6a-73be-40e...   \n",
       "4                      0.0  gs://gdc-tcga-phs000178-open/c64fa91c-4446-4be...   \n",
       "\n",
       "   mutation_states dataset  \n",
       "0              NaN   train  \n",
       "1              NaN   train  \n",
       "2              NaN   train  \n",
       "3              NaN   train  \n",
       "4              NaN   train  "
      ]
     },
     "execution_count": 32,
     "metadata": {},
     "output_type": "execute_result"
    }
   ],
   "source": [
    "train_test_valid = pd.concat([train_df_60, test_df_60, valid_df_60], ignore_index=True)\n",
    "train_test_valid.head()"
   ]
  },
  {
   "cell_type": "code",
   "execution_count": 33,
   "metadata": {},
   "outputs": [
    {
     "name": "stderr",
     "output_type": "stream",
     "text": [
      "1it [00:09,  9.79s/it]\n"
     ]
    }
   ],
   "source": [
    "train_test_valid.to_gbq('tcga.train_test_valid_CHOL', 'deep-nexus', if_exists='replace')"
   ]
  }
 ],
 "metadata": {
  "kernelspec": {
   "display_name": "Python 3",
   "language": "python",
   "name": "python3"
  },
  "language_info": {
   "codemirror_mode": {
    "name": "ipython",
    "version": 3
   },
   "file_extension": ".py",
   "mimetype": "text/x-python",
   "name": "python",
   "nbconvert_exporter": "python",
   "pygments_lexer": "ipython3",
   "version": "3.5.3"
  }
 },
 "nbformat": 4,
 "nbformat_minor": 4
}
