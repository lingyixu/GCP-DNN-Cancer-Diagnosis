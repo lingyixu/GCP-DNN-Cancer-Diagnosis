{
 "cells": [
  {
   "cell_type": "markdown",
   "metadata": {},
   "source": [
    "## Patient-level data split for all cohorts"
   ]
  },
  {
   "cell_type": "code",
   "execution_count": 1,
   "metadata": {},
   "outputs": [],
   "source": [
    "# import packages\n",
    "\n",
    "import pandas as pd\n",
    "import numpy as np\n",
    "#import random\n",
    "import matplotlib.pyplot as plt\n",
    "#import seaborn as sns\n",
    "from altair import *\n",
    "#from google.cloud import bigquery\n",
    "from deep_nexus.preprocess_images import random_split"
   ]
  },
  {
   "cell_type": "code",
   "execution_count": 2,
   "metadata": {},
   "outputs": [],
   "source": [
    "# the following cell is to generate a dataframe containing slides information\n",
    "# take CHOL with higher than 95% purity as an example"
   ]
  },
  {
   "cell_type": "code",
   "execution_count": 3,
   "metadata": {},
   "outputs": [],
   "source": [
    "%%bigquery df\n",
    "SELECT case_barcode, sample_barcode, disease_code, sample_type_name, avg_percent_tumor_cells, file_gcs_url\n",
    "FROM `deep-nexus.tcga.TCGA_slides_metadata`\n",
    "WHERE is_ffpe ='NO' AND (sample_type_name='Solid Tissue Normal' OR (sample_type_name='Primary solid Tumor' AND avg_percent_tumor_cells>95))"
   ]
  },
  {
   "cell_type": "code",
   "execution_count": 4,
   "metadata": {},
   "outputs": [
    {
     "data": {
      "text/html": [
       "<div>\n",
       "<style scoped>\n",
       "    .dataframe tbody tr th:only-of-type {\n",
       "        vertical-align: middle;\n",
       "    }\n",
       "\n",
       "    .dataframe tbody tr th {\n",
       "        vertical-align: top;\n",
       "    }\n",
       "\n",
       "    .dataframe thead th {\n",
       "        text-align: right;\n",
       "    }\n",
       "</style>\n",
       "<table border=\"1\" class=\"dataframe\">\n",
       "  <thead>\n",
       "    <tr style=\"text-align: right;\">\n",
       "      <th></th>\n",
       "      <th>case_barcode</th>\n",
       "      <th>sample_barcode</th>\n",
       "      <th>disease_code</th>\n",
       "      <th>sample_type_name</th>\n",
       "      <th>avg_percent_tumor_cells</th>\n",
       "      <th>file_gcs_url</th>\n",
       "      <th>mutation_states</th>\n",
       "    </tr>\n",
       "  </thead>\n",
       "  <tbody>\n",
       "    <tr>\n",
       "      <th>0</th>\n",
       "      <td>TCGA-N5-A59E</td>\n",
       "      <td>TCGA-N5-A59E-01A</td>\n",
       "      <td>UCS</td>\n",
       "      <td>Primary solid Tumor</td>\n",
       "      <td>100.0</td>\n",
       "      <td>gs://gdc-tcga-phs000178-open/5c3db5b8-480d-465...</td>\n",
       "      <td>NaN</td>\n",
       "    </tr>\n",
       "    <tr>\n",
       "      <th>1</th>\n",
       "      <td>TCGA-N5-A4RV</td>\n",
       "      <td>TCGA-N5-A4RV-01A</td>\n",
       "      <td>UCS</td>\n",
       "      <td>Primary solid Tumor</td>\n",
       "      <td>100.0</td>\n",
       "      <td>gs://gdc-tcga-phs000178-open/7a1456b4-bd25-49a...</td>\n",
       "      <td>NaN</td>\n",
       "    </tr>\n",
       "    <tr>\n",
       "      <th>2</th>\n",
       "      <td>TCGA-FF-8047</td>\n",
       "      <td>TCGA-FF-8047-01A</td>\n",
       "      <td>DLBC</td>\n",
       "      <td>Primary solid Tumor</td>\n",
       "      <td>100.0</td>\n",
       "      <td>gs://gdc-tcga-phs000178-open/d4f59c98-5c11-4b4...</td>\n",
       "      <td>NaN</td>\n",
       "    </tr>\n",
       "    <tr>\n",
       "      <th>3</th>\n",
       "      <td>TCGA-FF-8047</td>\n",
       "      <td>TCGA-FF-8047-01A</td>\n",
       "      <td>DLBC</td>\n",
       "      <td>Primary solid Tumor</td>\n",
       "      <td>100.0</td>\n",
       "      <td>gs://gdc-tcga-phs000178-open/3fb3733a-71c6-467...</td>\n",
       "      <td>NaN</td>\n",
       "    </tr>\n",
       "    <tr>\n",
       "      <th>4</th>\n",
       "      <td>TCGA-G8-6914</td>\n",
       "      <td>TCGA-G8-6914-01A</td>\n",
       "      <td>DLBC</td>\n",
       "      <td>Primary solid Tumor</td>\n",
       "      <td>100.0</td>\n",
       "      <td>gs://gdc-tcga-phs000178-open/00bb08da-d796-47a...</td>\n",
       "      <td>NaN</td>\n",
       "    </tr>\n",
       "  </tbody>\n",
       "</table>\n",
       "</div>"
      ],
      "text/plain": [
       "   case_barcode    sample_barcode disease_code     sample_type_name  \\\n",
       "0  TCGA-N5-A59E  TCGA-N5-A59E-01A          UCS  Primary solid Tumor   \n",
       "1  TCGA-N5-A4RV  TCGA-N5-A4RV-01A          UCS  Primary solid Tumor   \n",
       "2  TCGA-FF-8047  TCGA-FF-8047-01A         DLBC  Primary solid Tumor   \n",
       "3  TCGA-FF-8047  TCGA-FF-8047-01A         DLBC  Primary solid Tumor   \n",
       "4  TCGA-G8-6914  TCGA-G8-6914-01A         DLBC  Primary solid Tumor   \n",
       "\n",
       "   avg_percent_tumor_cells                                       file_gcs_url  \\\n",
       "0                    100.0  gs://gdc-tcga-phs000178-open/5c3db5b8-480d-465...   \n",
       "1                    100.0  gs://gdc-tcga-phs000178-open/7a1456b4-bd25-49a...   \n",
       "2                    100.0  gs://gdc-tcga-phs000178-open/d4f59c98-5c11-4b4...   \n",
       "3                    100.0  gs://gdc-tcga-phs000178-open/3fb3733a-71c6-467...   \n",
       "4                    100.0  gs://gdc-tcga-phs000178-open/00bb08da-d796-47a...   \n",
       "\n",
       "   mutation_states  \n",
       "0              NaN  \n",
       "1              NaN  \n",
       "2              NaN  \n",
       "3              NaN  \n",
       "4              NaN  "
      ]
     },
     "execution_count": 4,
     "metadata": {},
     "output_type": "execute_result"
    }
   ],
   "source": [
    "# add mutation_states and check df\n",
    "\n",
    "df['mutation_states'] = np.nan\n",
    "df.head()"
   ]
  },
  {
   "cell_type": "code",
   "execution_count": 5,
   "metadata": {},
   "outputs": [
    {
     "name": "stdout",
     "output_type": "stream",
     "text": [
      "The length of train_df: 3700.\n",
      "The length of test_df: 783.\n",
      "The length of valid_df: 785.\n"
     ]
    }
   ],
   "source": [
    "# do patient-level data split\n",
    "# random_split function receives a dataframe df containing slide_id and patient_id\n",
    "# train and valid ratio are set to 0.70 and 0.15 as default\n",
    "# seed is set to 42 as default\n",
    "\n",
    "train_df, test_df, valid_df = random_split(df, train_prop = 0.70, test_prop = 0.15, valid_prop = 0.15, seed = 42)"
   ]
  },
  {
   "cell_type": "code",
   "execution_count": 6,
   "metadata": {},
   "outputs": [],
   "source": [
    "# get sample barcodes\n",
    "\n",
    "train_slide = list(train_df['sample_barcode'])\n",
    "test_slide = list(test_df['sample_barcode'])\n",
    "valid_slide = list(valid_df['sample_barcode'])"
   ]
  },
  {
   "cell_type": "markdown",
   "metadata": {},
   "source": [
    "### If we discard tumor slides with purity no more than 95, get discarded slide IDs."
   ]
  },
  {
   "cell_type": "code",
   "execution_count": 7,
   "metadata": {},
   "outputs": [],
   "source": [
    "%%bigquery df_rest\n",
    "SELECT case_barcode, sample_barcode, disease_code, sample_type_name, avg_percent_tumor_cells, file_gcs_url\n",
    "FROM `deep-nexus.tcga.TCGA_slides_metadata`\n",
    "WHERE is_ffpe ='NO' AND sample_type_name='Primary solid Tumor' AND avg_percent_tumor_cells<=95\n",
    "ORDER BY avg_percent_tumor_cells"
   ]
  },
  {
   "cell_type": "code",
   "execution_count": 8,
   "metadata": {},
   "outputs": [
    {
     "data": {
      "text/html": [
       "<div>\n",
       "<style scoped>\n",
       "    .dataframe tbody tr th:only-of-type {\n",
       "        vertical-align: middle;\n",
       "    }\n",
       "\n",
       "    .dataframe tbody tr th {\n",
       "        vertical-align: top;\n",
       "    }\n",
       "\n",
       "    .dataframe thead th {\n",
       "        text-align: right;\n",
       "    }\n",
       "</style>\n",
       "<table border=\"1\" class=\"dataframe\">\n",
       "  <thead>\n",
       "    <tr style=\"text-align: right;\">\n",
       "      <th></th>\n",
       "      <th>case_barcode</th>\n",
       "      <th>sample_barcode</th>\n",
       "      <th>disease_code</th>\n",
       "      <th>sample_type_name</th>\n",
       "      <th>avg_percent_tumor_cells</th>\n",
       "      <th>file_gcs_url</th>\n",
       "      <th>mutation_states</th>\n",
       "    </tr>\n",
       "  </thead>\n",
       "  <tbody>\n",
       "    <tr>\n",
       "      <th>0</th>\n",
       "      <td>TCGA-HC-8265</td>\n",
       "      <td>TCGA-HC-8265-01A</td>\n",
       "      <td>PRAD</td>\n",
       "      <td>Primary solid Tumor</td>\n",
       "      <td>0.0</td>\n",
       "      <td>gs://gdc-tcga-phs000178-open/c5c286cd-5f70-498...</td>\n",
       "      <td>NaN</td>\n",
       "    </tr>\n",
       "    <tr>\n",
       "      <th>1</th>\n",
       "      <td>TCGA-HC-8260</td>\n",
       "      <td>TCGA-HC-8260-01A</td>\n",
       "      <td>PRAD</td>\n",
       "      <td>Primary solid Tumor</td>\n",
       "      <td>0.0</td>\n",
       "      <td>gs://gdc-tcga-phs000178-open/1790abdd-08a3-4b5...</td>\n",
       "      <td>NaN</td>\n",
       "    </tr>\n",
       "    <tr>\n",
       "      <th>2</th>\n",
       "      <td>TCGA-HC-8266</td>\n",
       "      <td>TCGA-HC-8266-01A</td>\n",
       "      <td>PRAD</td>\n",
       "      <td>Primary solid Tumor</td>\n",
       "      <td>0.0</td>\n",
       "      <td>gs://gdc-tcga-phs000178-open/1ee5d7aa-d100-457...</td>\n",
       "      <td>NaN</td>\n",
       "    </tr>\n",
       "    <tr>\n",
       "      <th>3</th>\n",
       "      <td>TCGA-55-8206</td>\n",
       "      <td>TCGA-55-8206-01A</td>\n",
       "      <td>LUAD</td>\n",
       "      <td>Primary solid Tumor</td>\n",
       "      <td>0.0</td>\n",
       "      <td>gs://gdc-tcga-phs000178-open/b89b673b-b84e-406...</td>\n",
       "      <td>NaN</td>\n",
       "    </tr>\n",
       "    <tr>\n",
       "      <th>4</th>\n",
       "      <td>TCGA-55-8205</td>\n",
       "      <td>TCGA-55-8205-01A</td>\n",
       "      <td>LUAD</td>\n",
       "      <td>Primary solid Tumor</td>\n",
       "      <td>0.0</td>\n",
       "      <td>gs://gdc-tcga-phs000178-open/e9091669-3b27-42c...</td>\n",
       "      <td>NaN</td>\n",
       "    </tr>\n",
       "  </tbody>\n",
       "</table>\n",
       "</div>"
      ],
      "text/plain": [
       "   case_barcode    sample_barcode disease_code     sample_type_name  \\\n",
       "0  TCGA-HC-8265  TCGA-HC-8265-01A         PRAD  Primary solid Tumor   \n",
       "1  TCGA-HC-8260  TCGA-HC-8260-01A         PRAD  Primary solid Tumor   \n",
       "2  TCGA-HC-8266  TCGA-HC-8266-01A         PRAD  Primary solid Tumor   \n",
       "3  TCGA-55-8206  TCGA-55-8206-01A         LUAD  Primary solid Tumor   \n",
       "4  TCGA-55-8205  TCGA-55-8205-01A         LUAD  Primary solid Tumor   \n",
       "\n",
       "   avg_percent_tumor_cells                                       file_gcs_url  \\\n",
       "0                      0.0  gs://gdc-tcga-phs000178-open/c5c286cd-5f70-498...   \n",
       "1                      0.0  gs://gdc-tcga-phs000178-open/1790abdd-08a3-4b5...   \n",
       "2                      0.0  gs://gdc-tcga-phs000178-open/1ee5d7aa-d100-457...   \n",
       "3                      0.0  gs://gdc-tcga-phs000178-open/b89b673b-b84e-406...   \n",
       "4                      0.0  gs://gdc-tcga-phs000178-open/e9091669-3b27-42c...   \n",
       "\n",
       "   mutation_states  \n",
       "0              NaN  \n",
       "1              NaN  \n",
       "2              NaN  \n",
       "3              NaN  \n",
       "4              NaN  "
      ]
     },
     "execution_count": 8,
     "metadata": {},
     "output_type": "execute_result"
    }
   ],
   "source": [
    "df_rest['mutation_states'] = np.nan\n",
    "df_rest.head()"
   ]
  },
  {
   "cell_type": "code",
   "execution_count": 9,
   "metadata": {},
   "outputs": [
    {
     "data": {
      "text/plain": [
       "12361"
      ]
     },
     "execution_count": 9,
     "metadata": {},
     "output_type": "execute_result"
    }
   ],
   "source": [
    "slide_rest = list(df_rest['sample_barcode'])\n",
    "len(slide_rest)"
   ]
  },
  {
   "cell_type": "markdown",
   "metadata": {},
   "source": [
    "### Or, we can include those discarded slides in the test and validation sets."
   ]
  },
  {
   "cell_type": "code",
   "execution_count": 10,
   "metadata": {},
   "outputs": [],
   "source": [
    "%%bigquery df_full\n",
    "SELECT case_barcode, sample_barcode, disease_code, sample_type_name, avg_percent_tumor_cells, file_gcs_url\n",
    "FROM `deep-nexus.tcga.TCGA_slides_metadata`\n",
    "WHERE is_ffpe ='NO' AND (sample_type_name='Primary solid Tumor' OR sample_type_name='Solid Tissue Normal')"
   ]
  },
  {
   "cell_type": "code",
   "execution_count": 11,
   "metadata": {},
   "outputs": [
    {
     "data": {
      "text/html": [
       "<div>\n",
       "<style scoped>\n",
       "    .dataframe tbody tr th:only-of-type {\n",
       "        vertical-align: middle;\n",
       "    }\n",
       "\n",
       "    .dataframe tbody tr th {\n",
       "        vertical-align: top;\n",
       "    }\n",
       "\n",
       "    .dataframe thead th {\n",
       "        text-align: right;\n",
       "    }\n",
       "</style>\n",
       "<table border=\"1\" class=\"dataframe\">\n",
       "  <thead>\n",
       "    <tr style=\"text-align: right;\">\n",
       "      <th></th>\n",
       "      <th>case_barcode</th>\n",
       "      <th>sample_barcode</th>\n",
       "      <th>disease_code</th>\n",
       "      <th>sample_type_name</th>\n",
       "      <th>avg_percent_tumor_cells</th>\n",
       "      <th>file_gcs_url</th>\n",
       "      <th>mutation_states</th>\n",
       "    </tr>\n",
       "  </thead>\n",
       "  <tbody>\n",
       "    <tr>\n",
       "      <th>0</th>\n",
       "      <td>TCGA-A8-A06U</td>\n",
       "      <td>TCGA-A8-A06U-01A</td>\n",
       "      <td>BRCA</td>\n",
       "      <td>Primary solid Tumor</td>\n",
       "      <td>57.5</td>\n",
       "      <td>gs://gdc-tcga-phs000178-open/c31b1184-ec81-441...</td>\n",
       "      <td>NaN</td>\n",
       "    </tr>\n",
       "    <tr>\n",
       "      <th>1</th>\n",
       "      <td>TCGA-CR-7383</td>\n",
       "      <td>TCGA-CR-7383-01A</td>\n",
       "      <td>HNSC</td>\n",
       "      <td>Primary solid Tumor</td>\n",
       "      <td>63.0</td>\n",
       "      <td>gs://gdc-tcga-phs000178-open/b3bfd15d-8ae0-4e8...</td>\n",
       "      <td>NaN</td>\n",
       "    </tr>\n",
       "    <tr>\n",
       "      <th>2</th>\n",
       "      <td>TCGA-CR-7401</td>\n",
       "      <td>TCGA-CR-7401-01A</td>\n",
       "      <td>HNSC</td>\n",
       "      <td>Primary solid Tumor</td>\n",
       "      <td>78.0</td>\n",
       "      <td>gs://gdc-tcga-phs000178-open/426829db-fa6c-465...</td>\n",
       "      <td>NaN</td>\n",
       "    </tr>\n",
       "    <tr>\n",
       "      <th>3</th>\n",
       "      <td>TCGA-CR-7364</td>\n",
       "      <td>TCGA-CR-7364-01A</td>\n",
       "      <td>HNSC</td>\n",
       "      <td>Primary solid Tumor</td>\n",
       "      <td>88.0</td>\n",
       "      <td>gs://gdc-tcga-phs000178-open/317bd2c1-2649-42d...</td>\n",
       "      <td>NaN</td>\n",
       "    </tr>\n",
       "    <tr>\n",
       "      <th>4</th>\n",
       "      <td>TCGA-CR-7377</td>\n",
       "      <td>TCGA-CR-7377-01A</td>\n",
       "      <td>HNSC</td>\n",
       "      <td>Primary solid Tumor</td>\n",
       "      <td>68.0</td>\n",
       "      <td>gs://gdc-tcga-phs000178-open/297312b3-2c88-419...</td>\n",
       "      <td>NaN</td>\n",
       "    </tr>\n",
       "  </tbody>\n",
       "</table>\n",
       "</div>"
      ],
      "text/plain": [
       "   case_barcode    sample_barcode disease_code     sample_type_name  \\\n",
       "0  TCGA-A8-A06U  TCGA-A8-A06U-01A         BRCA  Primary solid Tumor   \n",
       "1  TCGA-CR-7383  TCGA-CR-7383-01A         HNSC  Primary solid Tumor   \n",
       "2  TCGA-CR-7401  TCGA-CR-7401-01A         HNSC  Primary solid Tumor   \n",
       "3  TCGA-CR-7364  TCGA-CR-7364-01A         HNSC  Primary solid Tumor   \n",
       "4  TCGA-CR-7377  TCGA-CR-7377-01A         HNSC  Primary solid Tumor   \n",
       "\n",
       "   avg_percent_tumor_cells                                       file_gcs_url  \\\n",
       "0                     57.5  gs://gdc-tcga-phs000178-open/c31b1184-ec81-441...   \n",
       "1                     63.0  gs://gdc-tcga-phs000178-open/b3bfd15d-8ae0-4e8...   \n",
       "2                     78.0  gs://gdc-tcga-phs000178-open/426829db-fa6c-465...   \n",
       "3                     88.0  gs://gdc-tcga-phs000178-open/317bd2c1-2649-42d...   \n",
       "4                     68.0  gs://gdc-tcga-phs000178-open/297312b3-2c88-419...   \n",
       "\n",
       "   mutation_states  \n",
       "0              NaN  \n",
       "1              NaN  \n",
       "2              NaN  \n",
       "3              NaN  \n",
       "4              NaN  "
      ]
     },
     "execution_count": 11,
     "metadata": {},
     "output_type": "execute_result"
    }
   ],
   "source": [
    "df_full['mutation_states'] = np.nan\n",
    "df_full.head()"
   ]
  },
  {
   "cell_type": "markdown",
   "metadata": {},
   "source": [
    "#### 1. Check purity distribution."
   ]
  },
  {
   "cell_type": "code",
   "execution_count": 12,
   "metadata": {},
   "outputs": [
    {
     "data": {
      "text/plain": [
       "<matplotlib.axes._subplots.AxesSubplot at 0x7f28b51ffa58>"
      ]
     },
     "execution_count": 12,
     "metadata": {},
     "output_type": "execute_result"
    },
    {
     "data": {
      "image/png": "[encoded data removed]",
      "text/plain": [
       "<Figure size 432x288 with 1 Axes>"
      ]
     },
     "metadata": {
      "needs_background": "light"
     },
     "output_type": "display_data"
    }
   ],
   "source": [
    "df_full[df_full.sample_type_name=='Primary solid Tumor'].avg_percent_tumor_cells.hist()"
   ]
  },
  {
   "cell_type": "markdown",
   "metadata": {},
   "source": [
    "#### 2. Reset purity threshold to balance the size of train/test/valid."
   ]
  },
  {
   "cell_type": "code",
   "execution_count": 13,
   "metadata": {},
   "outputs": [],
   "source": [
    "%%bigquery df_60\n",
    "SELECT case_barcode, sample_barcode, disease_code, sample_type_name, avg_percent_tumor_cells, file_gcs_url\n",
    "FROM `deep-nexus.tcga.TCGA_slides_metadata`\n",
    "WHERE is_ffpe ='NO' AND (sample_type_name='Solid Tissue Normal' OR (sample_type_name='Primary solid Tumor' AND avg_percent_tumor_cells>60))"
   ]
  },
  {
   "cell_type": "code",
   "execution_count": 14,
   "metadata": {},
   "outputs": [],
   "source": [
    "%%bigquery df_60_rest\n",
    "SELECT case_barcode, sample_barcode, disease_code, sample_type_name, avg_percent_tumor_cells, file_gcs_url\n",
    "FROM `deep-nexus.tcga.TCGA_slides_metadata`\n",
    "WHERE is_ffpe ='NO' AND sample_type_name='Primary solid Tumor' AND avg_percent_tumor_cells<=60"
   ]
  },
  {
   "cell_type": "code",
   "execution_count": 15,
   "metadata": {},
   "outputs": [],
   "source": [
    "df_60['mutation_states'] = np.nan\n",
    "df_60_rest['mutation_states'] = np.nan"
   ]
  },
  {
   "cell_type": "code",
   "execution_count": 16,
   "metadata": {},
   "outputs": [
    {
     "name": "stdout",
     "output_type": "stream",
     "text": [
      "The length of train_df: 10731.\n",
      "The length of test_df: 2347.\n",
      "The length of valid_df: 2363.\n"
     ]
    }
   ],
   "source": [
    "train_df_60, test_df_part1, valid_df_part1 = random_split(df_60, train_prop = 0.70, test_prop = 0.15, valid_prop = 0.15, seed = 42)"
   ]
  },
  {
   "cell_type": "code",
   "execution_count": 17,
   "metadata": {},
   "outputs": [
    {
     "name": "stdout",
     "output_type": "stream",
     "text": [
      "The length of train_df: 0.\n",
      "The length of test_df: 1078.\n",
      "The length of valid_df: 1110.\n"
     ]
    }
   ],
   "source": [
    "_, test_df_part2, valid_df_part2 = random_split(df_60_rest, train_prop = 0, test_prop = 0.5, valid_prop = 0.5, seed = 42)"
   ]
  },
  {
   "cell_type": "code",
   "execution_count": 18,
   "metadata": {},
   "outputs": [],
   "source": [
    "test_df_60 = pd.concat([test_df_part1, test_df_part2], ignore_index=True)\n",
    "valid_df_60 = pd.concat([valid_df_part1, valid_df_part2], ignore_index=True)"
   ]
  },
  {
   "cell_type": "markdown",
   "metadata": {},
   "source": [
    "#### 3. Check if `case_barcode` in test & valid sets do not show in train set, otherwise move overlapping ones."
   ]
  },
  {
   "cell_type": "code",
   "execution_count": 19,
   "metadata": {},
   "outputs": [],
   "source": [
    "train_case = list(pd.unique(train_df_60['case_barcode']))\n",
    "test_case = list(pd.unique(test_df_60['case_barcode']))\n",
    "valid_case = list(pd.unique(valid_df_60['case_barcode']))"
   ]
  },
  {
   "cell_type": "code",
   "execution_count": 20,
   "metadata": {},
   "outputs": [
    {
     "data": {
      "text/plain": [
       "(6326, 2182, 2178)"
      ]
     },
     "execution_count": 20,
     "metadata": {},
     "output_type": "execute_result"
    }
   ],
   "source": [
    "len(train_case), len(test_case), len(valid_case)"
   ]
  },
  {
   "cell_type": "code",
   "execution_count": 21,
   "metadata": {},
   "outputs": [],
   "source": [
    "test_case_final = [case for case in test_case if case not in train_case]\n",
    "valid_case_final = [case for case in valid_case if case not in train_case]"
   ]
  },
  {
   "cell_type": "code",
   "execution_count": 22,
   "metadata": {},
   "outputs": [
    {
     "data": {
      "text/plain": [
       "(2075, 2088)"
      ]
     },
     "execution_count": 22,
     "metadata": {},
     "output_type": "execute_result"
    }
   ],
   "source": [
    "len(test_case_final), len(valid_case_final)"
   ]
  },
  {
   "cell_type": "code",
   "execution_count": 23,
   "metadata": {},
   "outputs": [],
   "source": [
    "test_df_60 = test_df_60[test_df_60['case_barcode'].isin(test_case_final)]\n",
    "valid_df_60 = valid_df_60[valid_df_60['case_barcode'].isin(valid_case_final)]"
   ]
  },
  {
   "cell_type": "code",
   "execution_count": 24,
   "metadata": {},
   "outputs": [],
   "source": [
    "train_slide_60 = list(train_df_60['sample_barcode'])\n",
    "test_slide_60 = list(test_df_60['sample_barcode'])\n",
    "valid_slide_60 = list(valid_df_60['sample_barcode'])"
   ]
  },
  {
   "cell_type": "code",
   "execution_count": 25,
   "metadata": {},
   "outputs": [
    {
     "name": "stdout",
     "output_type": "stream",
     "text": [
      "train set, length = 10731\n",
      "test set, length = 3263\n",
      "valid set, length = 3336\n"
     ]
    }
   ],
   "source": [
    "print(\"train set, length = {}\".format(len(train_slide_60)))\n",
    "#print(train_slide_60)\n",
    "print(\"test set, length = {}\".format(len(test_slide_60)))\n",
    "#print(test_slide_60)\n",
    "print(\"valid set, length = {}\".format(len(valid_slide_60)))\n",
    "#print(valid_slide_60)"
   ]
  },
  {
   "cell_type": "markdown",
   "metadata": {},
   "source": [
    "#### 4. Combine three datasets and push the dataframe to BigQuery."
   ]
  },
  {
   "cell_type": "code",
   "execution_count": 26,
   "metadata": {},
   "outputs": [
    {
     "name": "stderr",
     "output_type": "stream",
     "text": [
      "/usr/local/lib/python3.5/dist-packages/ipykernel_launcher.py:1: SettingWithCopyWarning: \n",
      "A value is trying to be set on a copy of a slice from a DataFrame.\n",
      "Try using .loc[row_indexer,col_indexer] = value instead\n",
      "\n",
      "See the caveats in the documentation: http://pandas.pydata.org/pandas-docs/stable/user_guide/indexing.html#returning-a-view-versus-a-copy\n",
      "  \"\"\"Entry point for launching an IPython kernel.\n"
     ]
    }
   ],
   "source": [
    "train_df_60['dataset'] = 'train'\n",
    "test_df_60['dataset'] = 'test'\n",
    "valid_df_60['dataset'] = 'valid'"
   ]
  },
  {
   "cell_type": "code",
   "execution_count": 27,
   "metadata": {},
   "outputs": [
    {
     "data": {
      "text/html": [
       "<div>\n",
       "<style scoped>\n",
       "    .dataframe tbody tr th:only-of-type {\n",
       "        vertical-align: middle;\n",
       "    }\n",
       "\n",
       "    .dataframe tbody tr th {\n",
       "        vertical-align: top;\n",
       "    }\n",
       "\n",
       "    .dataframe thead th {\n",
       "        text-align: right;\n",
       "    }\n",
       "</style>\n",
       "<table border=\"1\" class=\"dataframe\">\n",
       "  <thead>\n",
       "    <tr style=\"text-align: right;\">\n",
       "      <th></th>\n",
       "      <th>case_barcode</th>\n",
       "      <th>sample_barcode</th>\n",
       "      <th>disease_code</th>\n",
       "      <th>sample_type_name</th>\n",
       "      <th>avg_percent_tumor_cells</th>\n",
       "      <th>file_gcs_url</th>\n",
       "      <th>mutation_states</th>\n",
       "      <th>dataset</th>\n",
       "    </tr>\n",
       "  </thead>\n",
       "  <tbody>\n",
       "    <tr>\n",
       "      <th>0</th>\n",
       "      <td>TCGA-CR-7383</td>\n",
       "      <td>TCGA-CR-7383-01A</td>\n",
       "      <td>HNSC</td>\n",
       "      <td>Primary solid Tumor</td>\n",
       "      <td>63.0</td>\n",
       "      <td>gs://gdc-tcga-phs000178-open/b3bfd15d-8ae0-4e8...</td>\n",
       "      <td>NaN</td>\n",
       "      <td>train</td>\n",
       "    </tr>\n",
       "    <tr>\n",
       "      <th>1</th>\n",
       "      <td>TCGA-CR-7401</td>\n",
       "      <td>TCGA-CR-7401-01A</td>\n",
       "      <td>HNSC</td>\n",
       "      <td>Primary solid Tumor</td>\n",
       "      <td>78.0</td>\n",
       "      <td>gs://gdc-tcga-phs000178-open/426829db-fa6c-465...</td>\n",
       "      <td>NaN</td>\n",
       "      <td>train</td>\n",
       "    </tr>\n",
       "    <tr>\n",
       "      <th>2</th>\n",
       "      <td>TCGA-CR-7380</td>\n",
       "      <td>TCGA-CR-7380-01A</td>\n",
       "      <td>HNSC</td>\n",
       "      <td>Primary solid Tumor</td>\n",
       "      <td>88.0</td>\n",
       "      <td>gs://gdc-tcga-phs000178-open/e9e69f97-f978-498...</td>\n",
       "      <td>NaN</td>\n",
       "      <td>train</td>\n",
       "    </tr>\n",
       "    <tr>\n",
       "      <th>3</th>\n",
       "      <td>TCGA-CR-7390</td>\n",
       "      <td>TCGA-CR-7390-01A</td>\n",
       "      <td>HNSC</td>\n",
       "      <td>Primary solid Tumor</td>\n",
       "      <td>88.0</td>\n",
       "      <td>gs://gdc-tcga-phs000178-open/df725c90-28f9-44c...</td>\n",
       "      <td>NaN</td>\n",
       "      <td>train</td>\n",
       "    </tr>\n",
       "    <tr>\n",
       "      <th>4</th>\n",
       "      <td>TCGA-AN-A0G0</td>\n",
       "      <td>TCGA-AN-A0G0-01A</td>\n",
       "      <td>BRCA</td>\n",
       "      <td>Primary solid Tumor</td>\n",
       "      <td>86.5</td>\n",
       "      <td>gs://gdc-tcga-phs000178-open/1b06f985-d109-430...</td>\n",
       "      <td>NaN</td>\n",
       "      <td>train</td>\n",
       "    </tr>\n",
       "  </tbody>\n",
       "</table>\n",
       "</div>"
      ],
      "text/plain": [
       "   case_barcode    sample_barcode disease_code     sample_type_name  \\\n",
       "0  TCGA-CR-7383  TCGA-CR-7383-01A         HNSC  Primary solid Tumor   \n",
       "1  TCGA-CR-7401  TCGA-CR-7401-01A         HNSC  Primary solid Tumor   \n",
       "2  TCGA-CR-7380  TCGA-CR-7380-01A         HNSC  Primary solid Tumor   \n",
       "3  TCGA-CR-7390  TCGA-CR-7390-01A         HNSC  Primary solid Tumor   \n",
       "4  TCGA-AN-A0G0  TCGA-AN-A0G0-01A         BRCA  Primary solid Tumor   \n",
       "\n",
       "   avg_percent_tumor_cells                                       file_gcs_url  \\\n",
       "0                     63.0  gs://gdc-tcga-phs000178-open/b3bfd15d-8ae0-4e8...   \n",
       "1                     78.0  gs://gdc-tcga-phs000178-open/426829db-fa6c-465...   \n",
       "2                     88.0  gs://gdc-tcga-phs000178-open/e9e69f97-f978-498...   \n",
       "3                     88.0  gs://gdc-tcga-phs000178-open/df725c90-28f9-44c...   \n",
       "4                     86.5  gs://gdc-tcga-phs000178-open/1b06f985-d109-430...   \n",
       "\n",
       "   mutation_states dataset  \n",
       "0              NaN   train  \n",
       "1              NaN   train  \n",
       "2              NaN   train  \n",
       "3              NaN   train  \n",
       "4              NaN   train  "
      ]
     },
     "execution_count": 27,
     "metadata": {},
     "output_type": "execute_result"
    }
   ],
   "source": [
    "train_test_valid = pd.concat([train_df_60, test_df_60, valid_df_60], ignore_index=True)\n",
    "train_test_valid.head()"
   ]
  },
  {
   "cell_type": "code",
   "execution_count": 28,
   "metadata": {},
   "outputs": [
    {
     "name": "stderr",
     "output_type": "stream",
     "text": [
      "1it [00:05,  5.30s/it]\n"
     ]
    }
   ],
   "source": [
    "train_test_valid.to_gbq('tcga.train_test_valid', 'deep-nexus', if_exists='replace')"
   ]
  },
  {
   "cell_type": "markdown",
   "metadata": {},
   "source": [
    "#### 5. Plot tumor vs normal."
   ]
  },
  {
   "cell_type": "code",
   "execution_count": 29,
   "metadata": {},
   "outputs": [],
   "source": [
    "train_type = train_df_60['sample_type_name'].value_counts()\n",
    "test_type = test_df_60['sample_type_name'].value_counts()\n",
    "valid_type = valid_df_60['sample_type_name'].value_counts()"
   ]
  },
  {
   "cell_type": "code",
   "execution_count": 30,
   "metadata": {},
   "outputs": [
    {
     "data": {
      "text/html": [
       "<div>\n",
       "<style scoped>\n",
       "    .dataframe tbody tr th:only-of-type {\n",
       "        vertical-align: middle;\n",
       "    }\n",
       "\n",
       "    .dataframe tbody tr th {\n",
       "        vertical-align: top;\n",
       "    }\n",
       "\n",
       "    .dataframe thead th {\n",
       "        text-align: right;\n",
       "    }\n",
       "</style>\n",
       "<table border=\"1\" class=\"dataframe\">\n",
       "  <thead>\n",
       "    <tr style=\"text-align: right;\">\n",
       "      <th></th>\n",
       "      <th>Primary solid Tumor</th>\n",
       "      <th>Solid Tissue Normal</th>\n",
       "    </tr>\n",
       "  </thead>\n",
       "  <tbody>\n",
       "    <tr>\n",
       "      <th>train</th>\n",
       "      <td>8842</td>\n",
       "      <td>1889</td>\n",
       "    </tr>\n",
       "    <tr>\n",
       "      <th>test</th>\n",
       "      <td>2841</td>\n",
       "      <td>422</td>\n",
       "    </tr>\n",
       "    <tr>\n",
       "      <th>valid</th>\n",
       "      <td>2896</td>\n",
       "      <td>440</td>\n",
       "    </tr>\n",
       "  </tbody>\n",
       "</table>\n",
       "</div>"
      ],
      "text/plain": [
       "       Primary solid Tumor  Solid Tissue Normal\n",
       "train                 8842                 1889\n",
       "test                  2841                  422\n",
       "valid                 2896                  440"
      ]
     },
     "execution_count": 30,
     "metadata": {},
     "output_type": "execute_result"
    }
   ],
   "source": [
    "df_type = pd.DataFrame([train_type, test_type, valid_type], index=['train', 'test', 'valid'])\n",
    "df_type"
   ]
  },
  {
   "cell_type": "markdown",
   "metadata": {},
   "source": [
    "#### 5.1 tumor/normal in each dataset"
   ]
  },
  {
   "cell_type": "code",
   "execution_count": 31,
   "metadata": {},
   "outputs": [
    {
     "data": {
      "text/plain": [
       "Text(0.5, 1.0, 'Tumor/normal slides ditribution in each dataset')"
      ]
     },
     "execution_count": 31,
     "metadata": {},
     "output_type": "execute_result"
    },
    {
     "data": {
      "text/plain": [
       "<Figure size 720x432 with 0 Axes>"
      ]
     },
     "metadata": {},
     "output_type": "display_data"
    },
    {
     "data": {
      "image/png": "[encoded data removed]",
      "text/plain": [
       "<Figure size 432x288 with 1 Axes>"
      ]
     },
     "metadata": {
      "needs_background": "light"
     },
     "output_type": "display_data"
    }
   ],
   "source": [
    "plt.figure(figsize=(10, 6))\n",
    "ax = df_type.plot(kind='bar')\n",
    "for p in ax.patches:\n",
    "    ax.annotate(str(p.get_height()), (p.get_x()+0.02, p.get_height()+100))\n",
    "plt.ylim(0,10000)\n",
    "plt.xticks(rotation=0)\n",
    "plt.title('Tumor/normal slides ditribution in each dataset')"
   ]
  },
  {
   "cell_type": "markdown",
   "metadata": {},
   "source": [
    "#### 5.2 tumor/normal in each cohort"
   ]
  },
  {
   "cell_type": "code",
   "execution_count": 32,
   "metadata": {},
   "outputs": [
    {
     "data": {
      "text/plain": [
       "(array([ 0,  1,  2,  3,  4,  5,  6,  7,  8,  9, 10, 11, 12, 13, 14, 15, 16,\n",
       "        17, 18, 19, 20, 21, 22, 23, 24, 25, 26, 27, 28, 29, 30, 31]),\n",
       " <a list of 32 Text xticklabel objects>)"
      ]
     },
     "execution_count": 32,
     "metadata": {},
     "output_type": "execute_result"
    },
    {
     "data": {
      "image/png": "[encoded data removed]",
      "text/plain": [
       "<Figure size 1440x576 with 1 Axes>"
      ]
     },
     "metadata": {
      "needs_background": "light"
     },
     "output_type": "display_data"
    }
   ],
   "source": [
    "ax = train_test_valid.groupby(['disease_code', 'sample_type_name']).size().unstack(fill_value=0).plot(kind='bar', figsize=(20,8))\n",
    "for p in ax.patches:\n",
    "    ax.annotate(str(p.get_height()), (p.get_x()-0.05, p.get_height()+10))\n",
    "plt.title('Tumor/normal slides by cohort', size=20)\n",
    "plt.xticks(rotation=0, size=12)"
   ]
  },
  {
   "cell_type": "markdown",
   "metadata": {},
   "source": [
    "#### 5.3 tumor/normal in each cohort, stacked bar chart\n",
    "**1) ungrouped by `disease_code`**"
   ]
  },
  {
   "cell_type": "code",
   "execution_count": 33,
   "metadata": {},
   "outputs": [
    {
     "data": {
      "text/plain": [
       "<matplotlib.axes._subplots.AxesSubplot at 0x7f289411ceb8>"
      ]
     },
     "execution_count": 33,
     "metadata": {},
     "output_type": "execute_result"
    },
    {
     "data": {
      "image/png": "[encoded data removed]",
      "text/plain": [
       "<Figure size 1440x576 with 1 Axes>"
      ]
     },
     "metadata": {
      "needs_background": "light"
     },
     "output_type": "display_data"
    }
   ],
   "source": [
    "train_test_valid.groupby(['disease_code', 'sample_type_name', 'dataset']).size().unstack(fill_value=0).plot(kind='bar', stacked=True, figsize=(20,8))"
   ]
  },
  {
   "cell_type": "markdown",
   "metadata": {},
   "source": [
    "**2) grouped by `disease_code`**"
   ]
  },
  {
   "cell_type": "markdown",
   "metadata": {},
   "source": [
    "Ref: https://github.com/altair-viz/altair/issues/1679, https://altair-viz.github.io/gallery/grouped_bar_chart.html, https://stackoverflow.com/questions/22787209/how-to-have-clusters-of-stacked-bars-with-python-pandas"
   ]
  },
  {
   "cell_type": "code",
   "execution_count": 34,
   "metadata": {},
   "outputs": [
    {
     "data": {
      "text/html": [
       "<div>\n",
       "<style scoped>\n",
       "    .dataframe tbody tr th:only-of-type {\n",
       "        vertical-align: middle;\n",
       "    }\n",
       "\n",
       "    .dataframe tbody tr th {\n",
       "        vertical-align: top;\n",
       "    }\n",
       "\n",
       "    .dataframe thead th {\n",
       "        text-align: right;\n",
       "    }\n",
       "</style>\n",
       "<table border=\"1\" class=\"dataframe\">\n",
       "  <thead>\n",
       "    <tr style=\"text-align: right;\">\n",
       "      <th></th>\n",
       "      <th>disease_code</th>\n",
       "      <th>type</th>\n",
       "      <th>dataset</th>\n",
       "      <th>values</th>\n",
       "    </tr>\n",
       "  </thead>\n",
       "  <tbody>\n",
       "    <tr>\n",
       "      <th>0</th>\n",
       "      <td>ACC</td>\n",
       "      <td>tumor</td>\n",
       "      <td>3-test</td>\n",
       "      <td>16</td>\n",
       "    </tr>\n",
       "    <tr>\n",
       "      <th>1</th>\n",
       "      <td>ACC</td>\n",
       "      <td>tumor</td>\n",
       "      <td>1-train</td>\n",
       "      <td>61</td>\n",
       "    </tr>\n",
       "    <tr>\n",
       "      <th>2</th>\n",
       "      <td>ACC</td>\n",
       "      <td>tumor</td>\n",
       "      <td>2-valid</td>\n",
       "      <td>15</td>\n",
       "    </tr>\n",
       "    <tr>\n",
       "      <th>3</th>\n",
       "      <td>ACC</td>\n",
       "      <td>normal</td>\n",
       "      <td>1-train</td>\n",
       "      <td>3</td>\n",
       "    </tr>\n",
       "    <tr>\n",
       "      <th>4</th>\n",
       "      <td>ACC</td>\n",
       "      <td>normal</td>\n",
       "      <td>2-valid</td>\n",
       "      <td>1</td>\n",
       "    </tr>\n",
       "  </tbody>\n",
       "</table>\n",
       "</div>"
      ],
      "text/plain": [
       "  disease_code    type  dataset  values\n",
       "0          ACC   tumor   3-test      16\n",
       "1          ACC   tumor  1-train      61\n",
       "2          ACC   tumor  2-valid      15\n",
       "3          ACC  normal  1-train       3\n",
       "4          ACC  normal  2-valid       1"
      ]
     },
     "execution_count": 34,
     "metadata": {},
     "output_type": "execute_result"
    }
   ],
   "source": [
    "value_count = train_test_valid.groupby(['disease_code', 'sample_type_name', 'dataset']).size().reset_index(name='values')\n",
    "value_count.replace('Primary solid Tumor', 'tumor', inplace=True)\n",
    "value_count.replace('Solid Tissue Normal', 'normal', inplace=True)\n",
    "value_count.replace('train', '1-train', inplace=True)\n",
    "value_count.replace('valid', '2-valid', inplace=True)\n",
    "value_count.replace('test', '3-test', inplace=True)\n",
    "value_count.columns = ['disease_code', 'type', 'dataset', 'values']\n",
    "value_count.head()"
   ]
  },
  {
   "cell_type": "code",
   "execution_count": 35,
   "metadata": {},
   "outputs": [
    {
     "data": {
      "text/html": [
       "\n",
       "<div id=\"altair-viz-521b1a4682e14cbfb44313fa93491de1\"></div>\n",
       "<script type=\"text/javascript\">\n",
       "  (function(spec, embedOpt){\n",
       "    const outputDiv = document.getElementById(\"altair-viz-521b1a4682e14cbfb44313fa93491de1\");\n",
       "    const paths = {\n",
       "      \"vega\": \"https://cdn.jsdelivr.net/npm//vega@5?noext\",\n",
       "      \"vega-lib\": \"https://cdn.jsdelivr.net/npm//vega-lib?noext\",\n",
       "      \"vega-lite\": \"https://cdn.jsdelivr.net/npm//vega-lite@4.0.2?noext\",\n",
       "      \"vega-embed\": \"https://cdn.jsdelivr.net/npm//vega-embed@6?noext\",\n",
       "    };\n",
       "\n",
       "    function loadScript(lib) {\n",
       "      return new Promise(function(resolve, reject) {\n",
       "        var s = document.createElement('script');\n",
       "        s.src = paths[lib];\n",
       "        s.async = true;\n",
       "        s.onload = () => resolve(paths[lib]);\n",
       "        s.onerror = () => reject(`Error loading script: ${paths[lib]}`);\n",
       "        document.getElementsByTagName(\"head\")[0].appendChild(s);\n",
       "      });\n",
       "    }\n",
       "\n",
       "    function showError(err) {\n",
       "      outputDiv.innerHTML = `<div class=\"error\" style=\"color:red;\">${err}</div>`;\n",
       "      throw err;\n",
       "    }\n",
       "\n",
       "    function displayChart(vegaEmbed) {\n",
       "      vegaEmbed(outputDiv, spec, embedOpt)\n",
       "        .catch(err => showError(`Javascript Error: ${err.message}<br>This usually means there's a typo in your chart specification. See the javascript console for the full traceback.`));\n",
       "    }\n",
       "\n",
       "    if(typeof define === \"function\" && define.amd) {\n",
       "      requirejs.config({paths});\n",
       "      require([\"vega-embed\"], displayChart, err => showError(`Error loading script: ${err.message}`));\n",
       "    } else if (typeof vegaEmbed === \"function\") {\n",
       "      displayChart(vegaEmbed);\n",
       "    } else {\n",
       "      loadScript(\"vega\")\n",
       "        .then(() => loadScript(\"vega-lite\"))\n",
       "        .then(() => loadScript(\"vega-embed\"))\n",
       "        .catch(showError)\n",
       "        .then(() => displayChart(vegaEmbed));\n",
       "    }\n",
       "  })({\"datasets\": {\"data-9ca79ae6453daf408f6b5ba20ded4613\": [{\"disease_code\": \"ACC\", \"dataset\": \"3-test\", \"type\": \"tumor\", \"values\": 16}, {\"disease_code\": \"ACC\", \"dataset\": \"1-train\", \"type\": \"tumor\", \"values\": 61}, {\"disease_code\": \"ACC\", \"dataset\": \"2-valid\", \"type\": \"tumor\", \"values\": 15}, {\"disease_code\": \"ACC\", \"dataset\": \"1-train\", \"type\": \"normal\", \"values\": 3}, {\"disease_code\": \"ACC\", \"dataset\": \"2-valid\", \"type\": \"normal\", \"values\": 1}, {\"disease_code\": \"BLCA\", \"dataset\": \"3-test\", \"type\": \"tumor\", \"values\": 90}, {\"disease_code\": \"BLCA\", \"dataset\": \"1-train\", \"type\": \"tumor\", \"values\": 254}, {\"disease_code\": \"BLCA\", \"dataset\": \"2-valid\", \"type\": \"tumor\", \"values\": 79}, {\"disease_code\": \"BLCA\", \"dataset\": \"3-test\", \"type\": \"normal\", \"values\": 8}, {\"disease_code\": \"BLCA\", \"dataset\": \"1-train\", \"type\": \"normal\", \"values\": 27}, {\"disease_code\": \"BLCA\", \"dataset\": \"2-valid\", \"type\": \"normal\", \"values\": 2}, {\"disease_code\": \"BRCA\", \"dataset\": \"3-test\", \"type\": \"tumor\", \"values\": 345}, {\"disease_code\": \"BRCA\", \"dataset\": \"1-train\", \"type\": \"tumor\", \"values\": 817}, {\"disease_code\": \"BRCA\", \"dataset\": \"2-valid\", \"type\": \"tumor\", \"values\": 361}, {\"disease_code\": \"BRCA\", \"dataset\": \"3-test\", \"type\": \"normal\", \"values\": 58}, {\"disease_code\": \"BRCA\", \"dataset\": \"1-train\", \"type\": \"normal\", \"values\": 263}, {\"disease_code\": \"BRCA\", \"dataset\": \"2-valid\", \"type\": \"normal\", \"values\": 60}, {\"disease_code\": \"CESC\", \"dataset\": \"3-test\", \"type\": \"tumor\", \"values\": 69}, {\"disease_code\": \"CESC\", \"dataset\": \"1-train\", \"type\": \"tumor\", \"values\": 181}, {\"disease_code\": \"CESC\", \"dataset\": \"2-valid\", \"type\": \"tumor\", \"values\": 61}, {\"disease_code\": \"CESC\", \"dataset\": \"1-train\", \"type\": \"normal\", \"values\": 8}, {\"disease_code\": \"CHOL\", \"dataset\": \"3-test\", \"type\": \"tumor\", \"values\": 7}, {\"disease_code\": \"CHOL\", \"dataset\": \"1-train\", \"type\": \"tumor\", \"values\": 30}, {\"disease_code\": \"CHOL\", \"dataset\": \"2-valid\", \"type\": \"tumor\", \"values\": 10}, {\"disease_code\": \"CHOL\", \"dataset\": \"3-test\", \"type\": \"normal\", \"values\": 4}, {\"disease_code\": \"CHOL\", \"dataset\": \"1-train\", \"type\": \"normal\", \"values\": 15}, {\"disease_code\": \"CHOL\", \"dataset\": \"2-valid\", \"type\": \"normal\", \"values\": 1}, {\"disease_code\": \"COAD\", \"dataset\": \"3-test\", \"type\": \"tumor\", \"values\": 133}, {\"disease_code\": \"COAD\", \"dataset\": \"1-train\", \"type\": \"tumor\", \"values\": 549}, {\"disease_code\": \"COAD\", \"dataset\": \"2-valid\", \"type\": \"tumor\", \"values\": 160}, {\"disease_code\": \"COAD\", \"dataset\": \"3-test\", \"type\": \"normal\", \"values\": 12}, {\"disease_code\": \"COAD\", \"dataset\": \"1-train\", \"type\": \"normal\", \"values\": 82}, {\"disease_code\": \"COAD\", \"dataset\": \"2-valid\", \"type\": \"normal\", \"values\": 15}, {\"disease_code\": \"DLBC\", \"dataset\": \"3-test\", \"type\": \"tumor\", \"values\": 10}, {\"disease_code\": \"DLBC\", \"dataset\": \"1-train\", \"type\": \"tumor\", \"values\": 40}, {\"disease_code\": \"DLBC\", \"dataset\": \"2-valid\", \"type\": \"tumor\", \"values\": 8}, {\"disease_code\": \"ESCA\", \"dataset\": \"3-test\", \"type\": \"tumor\", \"values\": 33}, {\"disease_code\": \"ESCA\", \"dataset\": \"1-train\", \"type\": \"tumor\", \"values\": 96}, {\"disease_code\": \"ESCA\", \"dataset\": \"2-valid\", \"type\": \"tumor\", \"values\": 34}, {\"disease_code\": \"ESCA\", \"dataset\": \"3-test\", \"type\": \"normal\", \"values\": 11}, {\"disease_code\": \"ESCA\", \"dataset\": \"1-train\", \"type\": \"normal\", \"values\": 44}, {\"disease_code\": \"ESCA\", \"dataset\": \"2-valid\", \"type\": \"normal\", \"values\": 10}, {\"disease_code\": \"GBM\", \"dataset\": \"3-test\", \"type\": \"tumor\", \"values\": 189}, {\"disease_code\": \"GBM\", \"dataset\": \"1-train\", \"type\": \"tumor\", \"values\": 775}, {\"disease_code\": \"GBM\", \"dataset\": \"2-valid\", \"type\": \"tumor\", \"values\": 208}, {\"disease_code\": \"GBM\", \"dataset\": \"1-train\", \"type\": \"normal\", \"values\": 5}, {\"disease_code\": \"GBM\", \"dataset\": \"2-valid\", \"type\": \"normal\", \"values\": 1}, {\"disease_code\": \"HNSC\", \"dataset\": \"3-test\", \"type\": \"tumor\", \"values\": 142}, {\"disease_code\": \"HNSC\", \"dataset\": \"1-train\", \"type\": \"tumor\", \"values\": 411}, {\"disease_code\": \"HNSC\", \"dataset\": \"2-valid\", \"type\": \"tumor\", \"values\": 168}, {\"disease_code\": \"HNSC\", \"dataset\": \"3-test\", \"type\": \"normal\", \"values\": 8}, {\"disease_code\": \"HNSC\", \"dataset\": \"1-train\", \"type\": \"normal\", \"values\": 43}, {\"disease_code\": \"HNSC\", \"dataset\": \"2-valid\", \"type\": \"normal\", \"values\": 6}, {\"disease_code\": \"KICH\", \"dataset\": \"3-test\", \"type\": \"tumor\", \"values\": 27}, {\"disease_code\": \"KICH\", \"dataset\": \"1-train\", \"type\": \"tumor\", \"values\": 89}, {\"disease_code\": \"KICH\", \"dataset\": \"2-valid\", \"type\": \"tumor\", \"values\": 30}, {\"disease_code\": \"KICH\", \"dataset\": \"3-test\", \"type\": \"normal\", \"values\": 13}, {\"disease_code\": \"KICH\", \"dataset\": \"1-train\", \"type\": \"normal\", \"values\": 34}, {\"disease_code\": \"KICH\", \"dataset\": \"2-valid\", \"type\": \"normal\", \"values\": 12}, {\"disease_code\": \"KIRC\", \"dataset\": \"3-test\", \"type\": \"tumor\", \"values\": 177}, {\"disease_code\": \"KIRC\", \"dataset\": \"1-train\", \"type\": \"tumor\", \"values\": 680}, {\"disease_code\": \"KIRC\", \"dataset\": \"2-valid\", \"type\": \"tumor\", \"values\": 199}, {\"disease_code\": \"KIRC\", \"dataset\": \"3-test\", \"type\": \"normal\", \"values\": 91}, {\"disease_code\": \"KIRC\", \"dataset\": \"1-train\", \"type\": \"normal\", \"values\": 369}, {\"disease_code\": \"KIRC\", \"dataset\": \"2-valid\", \"type\": \"normal\", \"values\": 101}, {\"disease_code\": \"KIRP\", \"dataset\": \"3-test\", \"type\": \"tumor\", \"values\": 73}, {\"disease_code\": \"KIRP\", \"dataset\": \"1-train\", \"type\": \"tumor\", \"values\": 228}, {\"disease_code\": \"KIRP\", \"dataset\": \"2-valid\", \"type\": \"tumor\", \"values\": 68}, {\"disease_code\": \"KIRP\", \"dataset\": \"3-test\", \"type\": \"normal\", \"values\": 17}, {\"disease_code\": \"KIRP\", \"dataset\": \"1-train\", \"type\": \"normal\", \"values\": 61}, {\"disease_code\": \"KIRP\", \"dataset\": \"2-valid\", \"type\": \"normal\", \"values\": 15}, {\"disease_code\": \"LGG\", \"dataset\": \"3-test\", \"type\": \"tumor\", \"values\": 208}, {\"disease_code\": \"LGG\", \"dataset\": \"1-train\", \"type\": \"tumor\", \"values\": 328}, {\"disease_code\": \"LGG\", \"dataset\": \"2-valid\", \"type\": \"tumor\", \"values\": 169}, {\"disease_code\": \"LIHC\", \"dataset\": \"3-test\", \"type\": \"tumor\", \"values\": 67}, {\"disease_code\": \"LIHC\", \"dataset\": \"1-train\", \"type\": \"tumor\", \"values\": 276}, {\"disease_code\": \"LIHC\", \"dataset\": \"2-valid\", \"type\": \"tumor\", \"values\": 57}, {\"disease_code\": \"LIHC\", \"dataset\": \"3-test\", \"type\": \"normal\", \"values\": 14}, {\"disease_code\": \"LIHC\", \"dataset\": \"1-train\", \"type\": \"normal\", \"values\": 60}, {\"disease_code\": \"LIHC\", \"dataset\": \"2-valid\", \"type\": \"normal\", \"values\": 15}, {\"disease_code\": \"LUAD\", \"dataset\": \"3-test\", \"type\": \"tumor\", \"values\": 105}, {\"disease_code\": \"LUAD\", \"dataset\": \"1-train\", \"type\": \"tumor\", \"values\": 508}, {\"disease_code\": \"LUAD\", \"dataset\": \"2-valid\", \"type\": \"tumor\", \"values\": 155}, {\"disease_code\": \"LUAD\", \"dataset\": \"3-test\", \"type\": \"normal\", \"values\": 30}, {\"disease_code\": \"LUAD\", \"dataset\": \"1-train\", \"type\": \"normal\", \"values\": 169}, {\"disease_code\": \"LUAD\", \"dataset\": \"2-valid\", \"type\": \"normal\", \"values\": 45}, {\"disease_code\": \"LUSC\", \"dataset\": \"3-test\", \"type\": \"tumor\", \"values\": 116}, {\"disease_code\": \"LUSC\", \"dataset\": \"1-train\", \"type\": \"tumor\", \"values\": 414}, {\"disease_code\": \"LUSC\", \"dataset\": \"2-valid\", \"type\": \"tumor\", \"values\": 128}, {\"disease_code\": \"LUSC\", \"dataset\": \"3-test\", \"type\": \"normal\", \"values\": 53}, {\"disease_code\": \"LUSC\", \"dataset\": \"1-train\", \"type\": \"normal\", \"values\": 245}, {\"disease_code\": \"LUSC\", \"dataset\": \"2-valid\", \"type\": \"normal\", \"values\": 49}, {\"disease_code\": \"MESO\", \"dataset\": \"3-test\", \"type\": \"tumor\", \"values\": 22}, {\"disease_code\": \"MESO\", \"dataset\": \"1-train\", \"type\": \"tumor\", \"values\": 49}, {\"disease_code\": \"MESO\", \"dataset\": \"2-valid\", \"type\": \"tumor\", \"values\": 15}, {\"disease_code\": \"MESO\", \"dataset\": \"1-train\", \"type\": \"normal\", \"values\": 1}, {\"disease_code\": \"OV\", \"dataset\": \"3-test\", \"type\": \"tumor\", \"values\": 209}, {\"disease_code\": \"OV\", \"dataset\": \"1-train\", \"type\": \"tumor\", \"values\": 731}, {\"disease_code\": \"OV\", \"dataset\": \"2-valid\", \"type\": \"tumor\", \"values\": 197}, {\"disease_code\": \"OV\", \"dataset\": \"3-test\", \"type\": \"normal\", \"values\": 28}, {\"disease_code\": \"OV\", \"dataset\": \"1-train\", \"type\": \"normal\", \"values\": 103}, {\"disease_code\": \"OV\", \"dataset\": \"2-valid\", \"type\": \"normal\", \"values\": 32}, {\"disease_code\": \"PAAD\", \"dataset\": \"3-test\", \"type\": \"tumor\", \"values\": 70}, {\"disease_code\": \"PAAD\", \"dataset\": \"1-train\", \"type\": \"tumor\", \"values\": 63}, {\"disease_code\": \"PAAD\", \"dataset\": \"2-valid\", \"type\": \"tumor\", \"values\": 60}, {\"disease_code\": \"PAAD\", \"dataset\": \"3-test\", \"type\": \"normal\", \"values\": 4}, {\"disease_code\": \"PAAD\", \"dataset\": \"1-train\", \"type\": \"normal\", \"values\": 23}, {\"disease_code\": \"PAAD\", \"dataset\": \"2-valid\", \"type\": \"normal\", \"values\": 10}, {\"disease_code\": \"PCPG\", \"dataset\": \"3-test\", \"type\": \"tumor\", \"values\": 20}, {\"disease_code\": \"PCPG\", \"dataset\": \"1-train\", \"type\": \"tumor\", \"values\": 132}, {\"disease_code\": \"PCPG\", \"dataset\": \"2-valid\", \"type\": \"tumor\", \"values\": 28}, {\"disease_code\": \"PCPG\", \"dataset\": \"3-test\", \"type\": \"normal\", \"values\": 1}, {\"disease_code\": \"PCPG\", \"dataset\": \"1-train\", \"type\": \"normal\", \"values\": 3}, {\"disease_code\": \"PCPG\", \"dataset\": \"2-valid\", \"type\": \"normal\", \"values\": 1}, {\"disease_code\": \"PRAD\", \"dataset\": \"3-test\", \"type\": \"tumor\", \"values\": 147}, {\"disease_code\": \"PRAD\", \"dataset\": \"1-train\", \"type\": \"tumor\", \"values\": 273}, {\"disease_code\": \"PRAD\", \"dataset\": \"2-valid\", \"type\": \"tumor\", \"values\": 133}, {\"disease_code\": \"PRAD\", \"dataset\": \"3-test\", \"type\": \"normal\", \"values\": 19}, {\"disease_code\": \"PRAD\", \"dataset\": \"1-train\", \"type\": \"normal\", \"values\": 82}, {\"disease_code\": \"PRAD\", \"dataset\": \"2-valid\", \"type\": \"normal\", \"values\": 17}, {\"disease_code\": \"READ\", \"dataset\": \"3-test\", \"type\": \"tumor\", \"values\": 74}, {\"disease_code\": \"READ\", \"dataset\": \"1-train\", \"type\": \"tumor\", \"values\": 205}, {\"disease_code\": \"READ\", \"dataset\": \"2-valid\", \"type\": \"tumor\", \"values\": 56}, {\"disease_code\": \"READ\", \"dataset\": \"3-test\", \"type\": \"normal\", \"values\": 2}, {\"disease_code\": \"READ\", \"dataset\": \"1-train\", \"type\": \"normal\", \"values\": 21}, {\"disease_code\": \"READ\", \"dataset\": \"2-valid\", \"type\": \"normal\", \"values\": 2}, {\"disease_code\": \"SARC\", \"dataset\": \"3-test\", \"type\": \"tumor\", \"values\": 53}, {\"disease_code\": \"SARC\", \"dataset\": \"1-train\", \"type\": \"tumor\", \"values\": 168}, {\"disease_code\": \"SARC\", \"dataset\": \"2-valid\", \"type\": \"tumor\", \"values\": 39}, {\"disease_code\": \"SARC\", \"dataset\": \"3-test\", \"type\": \"normal\", \"values\": 9}, {\"disease_code\": \"SARC\", \"dataset\": \"1-train\", \"type\": \"normal\", \"values\": 15}, {\"disease_code\": \"SARC\", \"dataset\": \"2-valid\", \"type\": \"normal\", \"values\": 1}, {\"disease_code\": \"SKCM\", \"dataset\": \"3-test\", \"type\": \"tumor\", \"values\": 21}, {\"disease_code\": \"SKCM\", \"dataset\": \"1-train\", \"type\": \"tumor\", \"values\": 70}, {\"disease_code\": \"SKCM\", \"dataset\": \"2-valid\", \"type\": \"tumor\", \"values\": 13}, {\"disease_code\": \"SKCM\", \"dataset\": \"1-train\", \"type\": \"normal\", \"values\": 3}, {\"disease_code\": \"STAD\", \"dataset\": \"3-test\", \"type\": \"tumor\", \"values\": 126}, {\"disease_code\": \"STAD\", \"dataset\": \"1-train\", \"type\": \"tumor\", \"values\": 337}, {\"disease_code\": \"STAD\", \"dataset\": \"2-valid\", \"type\": \"tumor\", \"values\": 145}, {\"disease_code\": \"STAD\", \"dataset\": \"3-test\", \"type\": \"normal\", \"values\": 17}, {\"disease_code\": \"STAD\", \"dataset\": \"1-train\", \"type\": \"normal\", \"values\": 89}, {\"disease_code\": \"STAD\", \"dataset\": \"2-valid\", \"type\": \"normal\", \"values\": 18}, {\"disease_code\": \"TGCT\", \"dataset\": \"3-test\", \"type\": \"tumor\", \"values\": 21}, {\"disease_code\": \"TGCT\", \"dataset\": \"1-train\", \"type\": \"tumor\", \"values\": 101}, {\"disease_code\": \"TGCT\", \"dataset\": \"2-valid\", \"type\": \"tumor\", \"values\": 28}, {\"disease_code\": \"THCA\", \"dataset\": \"3-test\", \"type\": \"tumor\", \"values\": 102}, {\"disease_code\": \"THCA\", \"dataset\": \"1-train\", \"type\": \"tumor\", \"values\": 340}, {\"disease_code\": \"THCA\", \"dataset\": \"2-valid\", \"type\": \"tumor\", \"values\": 85}, {\"disease_code\": \"THCA\", \"dataset\": \"3-test\", \"type\": \"normal\", \"values\": 13}, {\"disease_code\": \"THCA\", \"dataset\": \"1-train\", \"type\": \"normal\", \"values\": 67}, {\"disease_code\": \"THCA\", \"dataset\": \"2-valid\", \"type\": \"normal\", \"values\": 17}, {\"disease_code\": \"THYM\", \"dataset\": \"3-test\", \"type\": \"tumor\", \"values\": 16}, {\"disease_code\": \"THYM\", \"dataset\": \"1-train\", \"type\": \"tumor\", \"values\": 88}, {\"disease_code\": \"THYM\", \"dataset\": \"2-valid\", \"type\": \"tumor\", \"values\": 19}, {\"disease_code\": \"THYM\", \"dataset\": \"3-test\", \"type\": \"normal\", \"values\": 3}, {\"disease_code\": \"THYM\", \"dataset\": \"1-train\", \"type\": \"normal\", \"values\": 9}, {\"disease_code\": \"THYM\", \"dataset\": \"2-valid\", \"type\": \"normal\", \"values\": 1}, {\"disease_code\": \"UCEC\", \"dataset\": \"3-test\", \"type\": \"tumor\", \"values\": 132}, {\"disease_code\": \"UCEC\", \"dataset\": \"1-train\", \"type\": \"tumor\", \"values\": 466}, {\"disease_code\": \"UCEC\", \"dataset\": \"2-valid\", \"type\": \"tumor\", \"values\": 144}, {\"disease_code\": \"UCEC\", \"dataset\": \"3-test\", \"type\": \"normal\", \"values\": 7}, {\"disease_code\": \"UCEC\", \"dataset\": \"1-train\", \"type\": \"normal\", \"values\": 41}, {\"disease_code\": \"UCEC\", \"dataset\": \"2-valid\", \"type\": \"normal\", \"values\": 6}, {\"disease_code\": \"UCS\", \"dataset\": \"3-test\", \"type\": \"tumor\", \"values\": 9}, {\"disease_code\": \"UCS\", \"dataset\": \"1-train\", \"type\": \"tumor\", \"values\": 36}, {\"disease_code\": \"UCS\", \"dataset\": \"2-valid\", \"type\": \"tumor\", \"values\": 12}, {\"disease_code\": \"UCS\", \"dataset\": \"1-train\", \"type\": \"normal\", \"values\": 4}, {\"disease_code\": \"UCS\", \"dataset\": \"2-valid\", \"type\": \"normal\", \"values\": 2}, {\"disease_code\": \"UVM\", \"dataset\": \"3-test\", \"type\": \"tumor\", \"values\": 12}, {\"disease_code\": \"UVM\", \"dataset\": \"1-train\", \"type\": \"tumor\", \"values\": 46}, {\"disease_code\": \"UVM\", \"dataset\": \"2-valid\", \"type\": \"tumor\", \"values\": 12}]}, \"encoding\": {\"y\": {\"field\": \"values\", \"type\": \"quantitative\", \"axis\": {\"grid\": true}}, \"column\": {\"field\": \"disease_code\", \"type\": \"nominal\"}, \"color\": {\"field\": \"dataset\", \"type\": \"nominal\"}, \"x\": {\"field\": \"type\", \"type\": \"nominal\"}}, \"$schema\": \"https://vega.github.io/schema/vega-lite/v4.0.2.json\", \"config\": {\"view\": {\"continuousHeight\": 300, \"continuousWidth\": 400}}, \"data\": {\"name\": \"data-9ca79ae6453daf408f6b5ba20ded4613\"}, \"mark\": \"bar\"}, {\"mode\": \"vega-lite\"});\n",
       "</script>"
      ],
      "text/plain": [
       "alt.Chart(...)"
      ]
     },
     "execution_count": 35,
     "metadata": {},
     "output_type": "execute_result"
    }
   ],
   "source": [
    "Chart(value_count).mark_bar().encode(x='type:N',y=Y('values', axis=Axis(grid=True)), column=Column('disease_code:N'), color='dataset:N')"
   ]
  },
  {
   "cell_type": "markdown",
   "metadata": {},
   "source": [
    "The above chart may not show in GitHub. Please visit \"tumor_normal_stacked_bar.svg\"."
   ]
  }
 ],
 "metadata": {
  "kernelspec": {
   "display_name": "Python 3",
   "language": "python",
   "name": "python3"
  },
  "language_info": {
   "codemirror_mode": {
    "name": "ipython",
    "version": 3
   },
   "file_extension": ".py",
   "mimetype": "text/x-python",
   "name": "python",
   "nbconvert_exporter": "python",
   "pygments_lexer": "ipython3",
   "version": "3.5.3"
  }
 },
 "nbformat": 4,
 "nbformat_minor": 4
}
